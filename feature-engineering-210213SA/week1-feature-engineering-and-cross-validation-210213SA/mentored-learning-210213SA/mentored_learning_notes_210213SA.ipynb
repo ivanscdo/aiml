{
 "cells": [
  {
   "cell_type": "markdown",
   "metadata": {},
   "source": [
    "leave one out cross validation\n",
    "- train 90%\n",
    "- test 10%\n",
    "\n",
    "holdout\n",
    "- train 70%\n",
    "- test 30%\n",
    "- high bias, high variance\n",
    "\n",
    "k-fold \n",
    "- ex k=5, data split into 5 groups\n",
    "- 80% train\n",
    "- 20% test\n",
    "\n",
    "stratified - instead of randomly picking, pick data based on category\n",
    "\n",
    "monte carlo\n",
    "- splits data randomly"
   ]
  },
  {
   "cell_type": "markdown",
   "metadata": {},
   "source": [
    "review:\n",
    "boostrap sampling\n",
    "- sampling with replacement\n",
    "- used when data is limited\n",
    "- have confidence will capture data in new data set\n",
    "- used for random forest, will have different trees"
   ]
  },
  {
   "cell_type": "markdown",
   "metadata": {},
   "source": [
    "SMOTE - synthetic minority oversampling technique"
   ]
  },
  {
   "cell_type": "markdown",
   "metadata": {},
   "source": [
    "RandomForest - criterion?"
   ]
  },
  {
   "cell_type": "code",
   "execution_count": null,
   "metadata": {},
   "outputs": [],
   "source": []
  }
 ],
 "metadata": {
  "kernelspec": {
   "display_name": "Python 3",
   "language": "python",
   "name": "python3"
  },
  "language_info": {
   "codemirror_mode": {
    "name": "ipython",
    "version": 3
   },
   "file_extension": ".py",
   "mimetype": "text/x-python",
   "name": "python",
   "nbconvert_exporter": "python",
   "pygments_lexer": "ipython3",
   "version": "3.8.5"
  }
 },
 "nbformat": 4,
 "nbformat_minor": 4
}
