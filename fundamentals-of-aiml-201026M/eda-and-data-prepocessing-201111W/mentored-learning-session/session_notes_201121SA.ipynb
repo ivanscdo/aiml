{
 "cells": [
  {
   "cell_type": "markdown",
   "metadata": {},
   "source": [
    "sign up for kaggle!\n",
    "\n",
    "last sessions spoke about visualizations, regex not commonly used\n",
    "\n",
    "This week will focus on Exploratory Data Analysis\n",
    "\n",
    "before moedeling neural networks etc, all starts with eda, upward of 50% of time \n",
    "\n",
    "### Stages of EDA: \n",
    "1. univariate analysis\n",
    "1. bivariate - relationship between two variables\n",
    "1. multivariate \n",
    "\n",
    "\n",
    "\n"
   ]
  },
  {
   "cell_type": "markdown",
   "metadata": {},
   "source": [
    "### Data Science life cycle & EDA"
   ]
  },
  {
   "cell_type": "markdown",
   "metadata": {},
   "source": [
    "1. problem definition\n",
    "1. hypothesis testing\n",
    "1. data visualization\n",
    "1. eda\n",
    "1. model selection\n",
    "1. model tuning"
   ]
  },
  {
   "cell_type": "markdown",
   "metadata": {},
   "source": [
    "predictive analytics - what could happen?\n",
    "\n",
    "prescriptive analytics - what should be done?"
   ]
  },
  {
   "cell_type": "markdown",
   "metadata": {},
   "source": [
    "types of variables\n",
    "\n",
    "categorical data - categories; gender, nationality\n",
    "\n",
    "continuous data - data points; salary"
   ]
  },
  {
   "cell_type": "markdown",
   "metadata": {},
   "source": [
    "### Missing values\n",
    "\n",
    "impute - measures of central tendency\n",
    "\n",
    "most of the time ok to drop, data is cheap to collect, \n",
    "\n",
    "to build accurate modal, don't want to rely on missing data\n",
    "\n",
    "can build two models, one with missign data one with not, compare models\n",
    "\n",
    "variable importance - not all variables contribute to models\n",
    "\n"
   ]
  },
  {
   "cell_type": "markdown",
   "metadata": {},
   "source": [
    "descriptive data exploration - 5 point summary\n",
    "\n",
    ".descrive()\n",
    "\n",
    "distribution of data\n",
    "\n",
    ".skew()\n",
    "\n",
    "skewness"
   ]
  },
  {
   "cell_type": "markdown",
   "metadata": {},
   "source": [
    "# Case Study Notes\n",
    "\n",
    "if good with eda, can start with junior data science job"
   ]
  },
  {
   "cell_type": "code",
   "execution_count": null,
   "metadata": {},
   "outputs": [],
   "source": []
  }
 ],
 "metadata": {
  "kernelspec": {
   "display_name": "Python 3",
   "language": "python",
   "name": "python3"
  },
  "language_info": {
   "codemirror_mode": {
    "name": "ipython",
    "version": 3
   },
   "file_extension": ".py",
   "mimetype": "text/x-python",
   "name": "python",
   "nbconvert_exporter": "python",
   "pygments_lexer": "ipython3",
   "version": "3.8.5"
  }
 },
 "nbformat": 4,
 "nbformat_minor": 4
}
