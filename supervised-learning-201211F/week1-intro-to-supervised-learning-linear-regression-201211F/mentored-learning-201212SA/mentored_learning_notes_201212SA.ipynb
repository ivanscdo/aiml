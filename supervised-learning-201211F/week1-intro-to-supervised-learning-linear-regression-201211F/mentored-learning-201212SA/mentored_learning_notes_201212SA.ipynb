{
 "cells": [
  {
   "cell_type": "markdown",
   "metadata": {},
   "source": [
    "machine learning - learn from historical data, predict the future.\n",
    "\n",
    "#### ML categorized into two:\n",
    "1. supervised learning\n",
    "1. unsupervised learning\n",
    "    \n",
    "#### Under/overfitting\n",
    "1. overfitting - does well with training data but fails with test data.\n",
    "1. underfiting - fails with both."
   ]
  },
  {
   "cell_type": "markdown",
   "metadata": {},
   "source": [
    "#### measures of association\n",
    "covariances \n",
    "correlation - "
   ]
  },
  {
   "cell_type": "markdown",
   "metadata": {},
   "source": [
    "Training Data/Test Data\n",
    "\n",
    "1. n-fold cross-validation - seperating data into test & train data, using different sections of data n-times, 5 for example. "
   ]
  },
  {
   "cell_type": "code",
   "execution_count": null,
   "metadata": {},
   "outputs": [],
   "source": []
  }
 ],
 "metadata": {
  "kernelspec": {
   "display_name": "Python 3",
   "language": "python",
   "name": "python3"
  },
  "language_info": {
   "codemirror_mode": {
    "name": "ipython",
    "version": 3
   },
   "file_extension": ".py",
   "mimetype": "text/x-python",
   "name": "python",
   "nbconvert_exporter": "python",
   "pygments_lexer": "ipython3",
   "version": "3.8.5"
  }
 },
 "nbformat": 4,
 "nbformat_minor": 4
}
