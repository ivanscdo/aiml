{
 "cells": [
  {
   "cell_type": "code",
   "execution_count": 5,
   "metadata": {},
   "outputs": [
    {
     "data": {
      "text/html": [
       "<div>\n",
       "<style scoped>\n",
       "    .dataframe tbody tr th:only-of-type {\n",
       "        vertical-align: middle;\n",
       "    }\n",
       "\n",
       "    .dataframe tbody tr th {\n",
       "        vertical-align: top;\n",
       "    }\n",
       "\n",
       "    .dataframe thead th {\n",
       "        text-align: right;\n",
       "    }\n",
       "</style>\n",
       "<table border=\"1\" class=\"dataframe\">\n",
       "  <thead>\n",
       "    <tr style=\"text-align: right;\">\n",
       "      <th></th>\n",
       "      <th>Suburb</th>\n",
       "      <th>Address</th>\n",
       "      <th>Rooms</th>\n",
       "      <th>Type</th>\n",
       "      <th>Method</th>\n",
       "      <th>SellerG</th>\n",
       "      <th>Date</th>\n",
       "      <th>Distance</th>\n",
       "      <th>Postcode</th>\n",
       "      <th>Bedroom</th>\n",
       "      <th>...</th>\n",
       "      <th>Landsize</th>\n",
       "      <th>BuildingArea</th>\n",
       "      <th>YearBuilt</th>\n",
       "      <th>CouncilArea</th>\n",
       "      <th>Latitude</th>\n",
       "      <th>Longtitude</th>\n",
       "      <th>Regionname</th>\n",
       "      <th>Propertycount</th>\n",
       "      <th>ParkingArea</th>\n",
       "      <th>Price</th>\n",
       "    </tr>\n",
       "  </thead>\n",
       "  <tbody>\n",
       "    <tr>\n",
       "      <th>1</th>\n",
       "      <td>Airport West</td>\n",
       "      <td>154 Halsey Rd</td>\n",
       "      <td>3</td>\n",
       "      <td>t</td>\n",
       "      <td>PI</td>\n",
       "      <td>Nelson</td>\n",
       "      <td>3/9/2016</td>\n",
       "      <td>13.5</td>\n",
       "      <td>3042.0</td>\n",
       "      <td>3.0</td>\n",
       "      <td>...</td>\n",
       "      <td>303.0</td>\n",
       "      <td>225</td>\n",
       "      <td>2016.0</td>\n",
       "      <td>Moonee Valley City Council</td>\n",
       "      <td>-37.7180</td>\n",
       "      <td>144.8780</td>\n",
       "      <td>Western Metropolitan</td>\n",
       "      <td>3464.0</td>\n",
       "      <td>Detached Garage</td>\n",
       "      <td>840000.0</td>\n",
       "    </tr>\n",
       "    <tr>\n",
       "      <th>2</th>\n",
       "      <td>Albert Park</td>\n",
       "      <td>105 Kerferd Rd</td>\n",
       "      <td>2</td>\n",
       "      <td>h</td>\n",
       "      <td>S</td>\n",
       "      <td>hockingstuart</td>\n",
       "      <td>3/9/2016</td>\n",
       "      <td>3.3</td>\n",
       "      <td>3206.0</td>\n",
       "      <td>2.0</td>\n",
       "      <td>...</td>\n",
       "      <td>120.0</td>\n",
       "      <td>82</td>\n",
       "      <td>1900.0</td>\n",
       "      <td>Port Phillip City Council</td>\n",
       "      <td>-37.8459</td>\n",
       "      <td>144.9555</td>\n",
       "      <td>Southern Metropolitan</td>\n",
       "      <td>3280.0</td>\n",
       "      <td>Attached Garage</td>\n",
       "      <td>1275000.0</td>\n",
       "    </tr>\n",
       "    <tr>\n",
       "      <th>5</th>\n",
       "      <td>Alphington</td>\n",
       "      <td>6 Smith St</td>\n",
       "      <td>4</td>\n",
       "      <td>h</td>\n",
       "      <td>S</td>\n",
       "      <td>Brace</td>\n",
       "      <td>3/9/2016</td>\n",
       "      <td>6.4</td>\n",
       "      <td>3078.0</td>\n",
       "      <td>3.0</td>\n",
       "      <td>...</td>\n",
       "      <td>853.0</td>\n",
       "      <td>263</td>\n",
       "      <td>1930.0</td>\n",
       "      <td>Darebin City Council</td>\n",
       "      <td>-37.7707</td>\n",
       "      <td>145.0318</td>\n",
       "      <td>Northern Metropolitan</td>\n",
       "      <td>2211.0</td>\n",
       "      <td>Underground</td>\n",
       "      <td>2000000.0</td>\n",
       "    </tr>\n",
       "    <tr>\n",
       "      <th>6</th>\n",
       "      <td>Alphington</td>\n",
       "      <td>5/6 Yarralea St</td>\n",
       "      <td>3</td>\n",
       "      <td>h</td>\n",
       "      <td>S</td>\n",
       "      <td>Jellis</td>\n",
       "      <td>3/9/2016</td>\n",
       "      <td>6.4</td>\n",
       "      <td>3078.0</td>\n",
       "      <td>3.0</td>\n",
       "      <td>...</td>\n",
       "      <td>208.0</td>\n",
       "      <td>inf</td>\n",
       "      <td>2013.0</td>\n",
       "      <td>Darebin City Council</td>\n",
       "      <td>-37.7854</td>\n",
       "      <td>145.0325</td>\n",
       "      <td>Northern Metropolitan</td>\n",
       "      <td>2211.0</td>\n",
       "      <td>Outdoor Stall</td>\n",
       "      <td>1110000.0</td>\n",
       "    </tr>\n",
       "    <tr>\n",
       "      <th>7</th>\n",
       "      <td>Altona</td>\n",
       "      <td>158 Queen St</td>\n",
       "      <td>3</td>\n",
       "      <td>h</td>\n",
       "      <td>VB</td>\n",
       "      <td>Greg</td>\n",
       "      <td>3/9/2016</td>\n",
       "      <td>13.8</td>\n",
       "      <td>3018.0</td>\n",
       "      <td>3.0</td>\n",
       "      <td>...</td>\n",
       "      <td>352.0</td>\n",
       "      <td>242</td>\n",
       "      <td>2015.0</td>\n",
       "      <td>Hobsons Bay City Council</td>\n",
       "      <td>-37.8700</td>\n",
       "      <td>144.8250</td>\n",
       "      <td>Western Metropolitan</td>\n",
       "      <td>5301.0</td>\n",
       "      <td>Parking Pad</td>\n",
       "      <td>520000.0</td>\n",
       "    </tr>\n",
       "  </tbody>\n",
       "</table>\n",
       "<p>5 rows × 22 columns</p>\n",
       "</div>"
      ],
      "text/plain": [
       "         Suburb          Address  Rooms Type Method        SellerG      Date  \\\n",
       "1  Airport West    154 Halsey Rd      3    t     PI         Nelson  3/9/2016   \n",
       "2   Albert Park   105 Kerferd Rd      2    h      S  hockingstuart  3/9/2016   \n",
       "5    Alphington       6 Smith St      4    h      S          Brace  3/9/2016   \n",
       "6    Alphington  5/6 Yarralea St      3    h      S         Jellis  3/9/2016   \n",
       "7        Altona     158 Queen St      3    h     VB           Greg  3/9/2016   \n",
       "\n",
       "   Distance  Postcode  Bedroom  ...  Landsize  BuildingArea  YearBuilt  \\\n",
       "1      13.5    3042.0      3.0  ...     303.0           225     2016.0   \n",
       "2       3.3    3206.0      2.0  ...     120.0            82     1900.0   \n",
       "5       6.4    3078.0      3.0  ...     853.0           263     1930.0   \n",
       "6       6.4    3078.0      3.0  ...     208.0           inf     2013.0   \n",
       "7      13.8    3018.0      3.0  ...     352.0           242     2015.0   \n",
       "\n",
       "                  CouncilArea  Latitude Longtitude             Regionname  \\\n",
       "1  Moonee Valley City Council  -37.7180   144.8780   Western Metropolitan   \n",
       "2   Port Phillip City Council  -37.8459   144.9555  Southern Metropolitan   \n",
       "5        Darebin City Council  -37.7707   145.0318  Northern Metropolitan   \n",
       "6        Darebin City Council  -37.7854   145.0325  Northern Metropolitan   \n",
       "7    Hobsons Bay City Council  -37.8700   144.8250   Western Metropolitan   \n",
       "\n",
       "   Propertycount      ParkingArea      Price  \n",
       "1         3464.0  Detached Garage   840000.0  \n",
       "2         3280.0  Attached Garage  1275000.0  \n",
       "5         2211.0      Underground  2000000.0  \n",
       "6         2211.0    Outdoor Stall  1110000.0  \n",
       "7         5301.0      Parking Pad   520000.0  \n",
       "\n",
       "[5 rows x 22 columns]"
      ]
     },
     "execution_count": 5,
     "metadata": {},
     "output_type": "execute_result"
    }
   ],
   "source": [
    "import pandas as pd\n",
    "data1 = pd.read_csv('files/Melbourne_housing_FULL.csv')\n",
    "data1 = data1.dropna() # remove null values\n",
    "data1.head()"
   ]
  },
  {
   "cell_type": "code",
   "execution_count": 1,
   "metadata": {},
   "outputs": [],
   "source": [
    "# scaling & z-score - variable subtracted from its mean and divided by standard deviation\n",
    "# if z-score = 1, value x is 1 standard deviation away from average"
   ]
  },
  {
   "cell_type": "code",
   "execution_count": 2,
   "metadata": {},
   "outputs": [
    {
     "data": {
      "text/plain": [
       "StandardScaler()"
      ]
     },
     "execution_count": 2,
     "metadata": {},
     "output_type": "execute_result"
    }
   ],
   "source": [
    "# takes every variable and transforms into z-score of attribute\n",
    "# need all variables comparable to each other; apples-to-apples scale\n",
    "from sklearn import preprocessing\n",
    "std_scale = preprocessing.StandardScaler()\n",
    "std_scale"
   ]
  },
  {
   "cell_type": "code",
   "execution_count": 7,
   "metadata": {},
   "outputs": [],
   "source": [
    "# allows to get variable onto its normalized scale\n",
    "data1['Bedroom_Stdscale'] = std_scale.fit_transform(data1[['Bedroom']])"
   ]
  },
  {
   "cell_type": "code",
   "execution_count": 9,
   "metadata": {},
   "outputs": [
    {
     "data": {
      "text/plain": [
       "1   -0.080681\n",
       "2   -1.115676\n",
       "5   -0.080681\n",
       "6   -0.080681\n",
       "7   -0.080681\n",
       "Name: Bedroom_Stdscale, dtype: float64"
      ]
     },
     "execution_count": 9,
     "metadata": {},
     "output_type": "execute_result"
    }
   ],
   "source": [
    "data1['Bedroom_Stdscale'].head()"
   ]
  },
  {
   "cell_type": "code",
   "execution_count": 10,
   "metadata": {},
   "outputs": [
    {
     "data": {
      "text/plain": [
       "(-3.1856679331239324, 9.234280724028467)"
      ]
     },
     "execution_count": 10,
     "metadata": {},
     "output_type": "execute_result"
    }
   ],
   "source": [
    "data1['Bedroom_Stdscale'].min(), data1['Bedroom_Stdscale'].max()\n",
    "# does not mean a house with -3 number of bedrooms\n",
    "# does mean there is a house whose number of bedrooms is about 3 standard deviations below the average number of bedrooms\n",
    "# there is also a house with number of bedrooms at 9 standard deviations above average"
   ]
  },
  {
   "cell_type": "code",
   "execution_count": 11,
   "metadata": {},
   "outputs": [
    {
     "data": {
      "text/plain": [
       "count    8.890000e+03\n",
       "mean     3.836451e-17\n",
       "std      1.000056e+00\n",
       "min     -3.185668e+00\n",
       "25%     -1.115676e+00\n",
       "50%     -8.068077e-02\n",
       "75%      9.543150e-01\n",
       "max      9.234281e+00\n",
       "Name: Bedroom_Stdscale, dtype: float64"
      ]
     },
     "execution_count": 11,
     "metadata": {},
     "output_type": "execute_result"
    }
   ],
   "source": [
    "data1['Bedroom_Stdscale'].describe() # 5 point summary\n",
    "# mean number of bedrooms is 0; average of standardized scale is 0"
   ]
  },
  {
   "cell_type": "markdown",
   "metadata": {},
   "source": [
    "## MinMaxScaler\n",
    "scale so that max is 1, min is 0\n",
    "\n",
    "(x - min)/(max - min)"
   ]
  },
  {
   "cell_type": "code",
   "execution_count": 13,
   "metadata": {},
   "outputs": [
    {
     "data": {
      "text/plain": [
       "MinMaxScaler()"
      ]
     },
     "execution_count": 13,
     "metadata": {},
     "output_type": "execute_result"
    }
   ],
   "source": [
    "minmax_scale = preprocessing.MinMaxScaler()\n",
    "minmax_scale"
   ]
  },
  {
   "cell_type": "code",
   "execution_count": 14,
   "metadata": {},
   "outputs": [],
   "source": [
    "data1['Car_MinMaxScale'] = minmax_scale.fit_transform(data1[['Car']])"
   ]
  },
  {
   "cell_type": "code",
   "execution_count": 15,
   "metadata": {},
   "outputs": [
    {
     "data": {
      "text/plain": [
       "1    0.1\n",
       "2    0.0\n",
       "5    0.4\n",
       "6    0.2\n",
       "7    0.1\n",
       "Name: Car_MinMaxScale, dtype: float64"
      ]
     },
     "execution_count": 15,
     "metadata": {},
     "output_type": "execute_result"
    }
   ],
   "source": [
    "data1['Car_MinMaxScale'].head(5)"
   ]
  },
  {
   "cell_type": "code",
   "execution_count": 16,
   "metadata": {},
   "outputs": [
    {
     "data": {
      "text/plain": [
       "(0.0, 1.0)"
      ]
     },
     "execution_count": 16,
     "metadata": {},
     "output_type": "execute_result"
    }
   ],
   "source": [
    "data1['Car_MinMaxScale'].min(), data1['Car_MinMaxScale'].max()"
   ]
  },
  {
   "cell_type": "code",
   "execution_count": 17,
   "metadata": {},
   "outputs": [
    {
     "data": {
      "text/plain": [
       "count    8890.000000\n",
       "mean        0.169224\n",
       "std         0.097534\n",
       "min         0.000000\n",
       "25%         0.100000\n",
       "50%         0.200000\n",
       "75%         0.200000\n",
       "max         1.000000\n",
       "Name: Car_MinMaxScale, dtype: float64"
      ]
     },
     "execution_count": 17,
     "metadata": {},
     "output_type": "execute_result"
    }
   ],
   "source": [
    "data1['Car_MinMaxScale'].describe()"
   ]
  },
  {
   "cell_type": "markdown",
   "metadata": {},
   "source": [
    "### Log Transformation"
   ]
  },
  {
   "cell_type": "code",
   "execution_count": 18,
   "metadata": {},
   "outputs": [],
   "source": [
    "import numpy as np"
   ]
  },
  {
   "cell_type": "code",
   "execution_count": 19,
   "metadata": {},
   "outputs": [
    {
     "data": {
      "text/plain": [
       "FunctionTransformer(func=<ufunc 'log1p'>)"
      ]
     },
     "execution_count": 19,
     "metadata": {},
     "output_type": "execute_result"
    }
   ],
   "source": [
    "log_transformer = preprocessing.FunctionTransformer(np.log1p) \n",
    "# create transformer function by transforming numpy's own logarithmic function\n",
    "# log1p func inside numpy, extracted into log transformer function, other capabilities not caried over\n",
    "log_transformer"
   ]
  },
  {
   "cell_type": "code",
   "execution_count": 20,
   "metadata": {},
   "outputs": [
    {
     "data": {
      "text/plain": [
       "0"
      ]
     },
     "execution_count": 20,
     "metadata": {},
     "output_type": "execute_result"
    }
   ],
   "source": [
    "data1['Distance'].isnull().sum()"
   ]
  },
  {
   "cell_type": "code",
   "execution_count": 21,
   "metadata": {},
   "outputs": [],
   "source": [
    "data1['Distance']= data1['Distance'].fillna(data1['Distance'].mean())\n",
    "# imput the null values ising the mean\n",
    "# fill missing values with the average"
   ]
  },
  {
   "cell_type": "code",
   "execution_count": 22,
   "metadata": {},
   "outputs": [],
   "source": [
    "data1['Distance_logtransform'] = log_transformer.fit_transform(data1[['Distance']])\n",
    "# transformed distance data to the logarithm"
   ]
  },
  {
   "cell_type": "code",
   "execution_count": 23,
   "metadata": {},
   "outputs": [
    {
     "data": {
      "text/plain": [
       "1    2.674149\n",
       "2    1.458615\n",
       "5    2.001480\n",
       "6    2.001480\n",
       "7    2.694627\n",
       "Name: Distance_logtransform, dtype: float64"
      ]
     },
     "execution_count": 23,
     "metadata": {},
     "output_type": "execute_result"
    }
   ],
   "source": [
    "data1['Distance_logtransform'].head()"
   ]
  },
  {
   "cell_type": "code",
   "execution_count": 24,
   "metadata": {},
   "outputs": [
    {
     "data": {
      "text/plain": [
       "count    8890.000000\n",
       "mean        2.356024\n",
       "std         0.550826\n",
       "min         0.000000\n",
       "25%         2.001480\n",
       "50%         2.415914\n",
       "75%         2.701361\n",
       "max         3.879500\n",
       "Name: Distance_logtransform, dtype: float64"
      ]
     },
     "execution_count": 24,
     "metadata": {},
     "output_type": "execute_result"
    }
   ],
   "source": [
    "data1['Distance_logtransform'].describe()"
   ]
  },
  {
   "cell_type": "markdown",
   "metadata": {},
   "source": [
    "### Exponential Transformation\n",
    "transform the other way; tears open variability, particularly for observations that are too clumped together"
   ]
  },
  {
   "cell_type": "code",
   "execution_count": 26,
   "metadata": {},
   "outputs": [
    {
     "data": {
      "text/plain": [
       "FunctionTransformer(func=<ufunc 'exp'>)"
      ]
     },
     "execution_count": 26,
     "metadata": {},
     "output_type": "execute_result"
    }
   ],
   "source": [
    "exp_transformer = preprocessing.FunctionTransformer(np.exp)\n",
    "exp_transformer"
   ]
  },
  {
   "cell_type": "code",
   "execution_count": 27,
   "metadata": {},
   "outputs": [],
   "source": [
    "data1['Rooms_exptransform'] = exp_transformer.fit_transform(data1[['Rooms']])\n",
    "# returns exponential transform of the data"
   ]
  },
  {
   "cell_type": "code",
   "execution_count": 28,
   "metadata": {},
   "outputs": [
    {
     "data": {
      "text/plain": [
       "1    20.085537\n",
       "2     7.389056\n",
       "5    54.598150\n",
       "6    20.085537\n",
       "7    20.085537\n",
       "Name: Rooms_exptransform, dtype: float64"
      ]
     },
     "execution_count": 28,
     "metadata": {},
     "output_type": "execute_result"
    }
   ],
   "source": [
    "data1['Rooms_exptransform'].head(5)"
   ]
  },
  {
   "cell_type": "code",
   "execution_count": 29,
   "metadata": {},
   "outputs": [
    {
     "data": {
      "text/plain": [
       "count      8890.000000\n",
       "mean         57.862291\n",
       "std        1743.357006\n",
       "min           2.718282\n",
       "25%           7.389056\n",
       "50%          20.085537\n",
       "75%          54.598150\n",
       "max      162754.791419\n",
       "Name: Rooms_exptransform, dtype: float64"
      ]
     },
     "execution_count": 29,
     "metadata": {},
     "output_type": "execute_result"
    }
   ],
   "source": [
    "data1['Rooms_exptransform'].describe()"
   ]
  },
  {
   "cell_type": "code",
   "execution_count": null,
   "metadata": {},
   "outputs": [],
   "source": [
    "# transformations are a way to study variablity, processing different types of outcomes in a dataset"
   ]
  }
 ],
 "metadata": {
  "kernelspec": {
   "display_name": "Python 3",
   "language": "python",
   "name": "python3"
  },
  "language_info": {
   "codemirror_mode": {
    "name": "ipython",
    "version": 3
   },
   "file_extension": ".py",
   "mimetype": "text/x-python",
   "name": "python",
   "nbconvert_exporter": "python",
   "pygments_lexer": "ipython3",
   "version": "3.8.5"
  }
 },
 "nbformat": 4,
 "nbformat_minor": 4
}
