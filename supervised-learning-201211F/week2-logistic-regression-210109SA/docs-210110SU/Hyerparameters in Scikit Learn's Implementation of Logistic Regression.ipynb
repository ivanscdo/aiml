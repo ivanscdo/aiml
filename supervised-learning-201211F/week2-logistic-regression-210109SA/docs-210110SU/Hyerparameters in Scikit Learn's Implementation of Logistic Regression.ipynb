{
 "cells": [
  {
   "cell_type": "markdown",
   "metadata": {},
   "source": [
    "Dear Learner,\n",
    "\n",
    "In this module, we have learnt about the sklearn implementation of the logistic regression algorithm. We learnt to implement the same through the sklearn. You can find the detailed documentation of sklearn implementation [here](https://scikit-learn.org/stable/modules/generated/sklearn.linear_model.LogisticRegression.html).\n",
    "\n",
    "As, you may have noted, the function implementation comes with different hyperparameters that can be set in the process of fitting a model to a data.\n",
    "\n",
    "So, let us have a look at what hyper-parameters are and how do they affect the modelling process.\n",
    "\n",
    " \n",
    "\n",
    "What are hyperparameters?\n",
    "Hyperparameters may be defined as factors that are used to control the learning process. These can be set to different values while the model is fitting the data and are specific to an algorithm.\n",
    "\n",
    "For example in the documentation [here](https://scikit-learn.org/stable/modules/generated/sklearn.linear_model.LogisticRegression.html), you will find a lot of hyperparameters. Some of them are-\n",
    "\n",
    "penalty - a regularization term introduced in the cost function. There are two types of regularization 'l1' and 'l2' about which we will talk about it detail later in the course.\n",
    "fit_intercept - is a boolean parameter which lets you decide if you want a intercept term to be added to the decision boundary.\n",
    "class_weight - is set to true in case of a class imbalance in the data set\n",
    "and many more.\n",
    "\n",
    " \n",
    "\n",
    "How do I set the hyperparameters to the best values?\n",
    "To set a hyperparameter to its optimum value, one needs to have a fair understanding of the algorithm, the data at hand and clear interpretation of the results of a model. Apart from that, different implementations of the same technique(logistic regression for example) might introduce some new hyperparameters and you will have to understand the implementation in detail to make the most out of it. \n",
    "\n",
    "However, it is not easy to tune these hyperparameters just by knowing or understanding things. Some hyperparameters are to be experimented with before one can ascertain the correct values.\n",
    "\n",
    "This tuning is automated through a process called the hyperparameter tuning. The idea behind hyperparameter tuning is to fit different models with different combinations of the hyperparameters and arrive at the best model and finding the best set in the process.\n",
    "\n",
    "The concept of hyperparameter tuning will be covered in detail in the module of FMST.\n",
    "\n",
    " \n",
    "\n",
    "But how do I use the Hyperparameters in this project if tuning is covered later?\n",
    "You are not supposed to perform the tuning in this module. However, you should explore the hyper-parameter available in the documentation and try out different values that are permissible. The idea is to introduce the concept hyperparameters before we finally go to tune them to the best results.\n",
    "\n",
    "Note that, there is no scope, nor is there any requirement to tune the models through the hyperparameter tuning process in this module. Just try your luck for now with these hyper-parameters for now.\n",
    "\n",
    " \n",
    "\n",
    "I hope this gives you some clarity on the same and you are all set to experiment with the hyperparameters.\n",
    "\n",
    "Happy Learning!"
   ]
  },
  {
   "cell_type": "code",
   "execution_count": null,
   "metadata": {},
   "outputs": [],
   "source": []
  }
 ],
 "metadata": {
  "kernelspec": {
   "display_name": "Python 3",
   "language": "python",
   "name": "python3"
  },
  "language_info": {
   "codemirror_mode": {
    "name": "ipython",
    "version": 3
   },
   "file_extension": ".py",
   "mimetype": "text/x-python",
   "name": "python",
   "nbconvert_exporter": "python",
   "pygments_lexer": "ipython3",
   "version": "3.8.5"
  }
 },
 "nbformat": 4,
 "nbformat_minor": 4
}
