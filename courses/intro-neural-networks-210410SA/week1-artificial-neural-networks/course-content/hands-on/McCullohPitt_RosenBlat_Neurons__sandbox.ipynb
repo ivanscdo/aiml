{
 "cells": [
  {
   "cell_type": "markdown",
   "metadata": {},
   "source": [
    "# Imports"
   ]
  },
  {
   "cell_type": "code",
   "execution_count": 2,
   "metadata": {},
   "outputs": [],
   "source": [
    "from random import choice\n",
    "from numpy import array, dot, random\n",
    "\n",
    "import numpy as np\n"
   ]
  },
  {
   "cell_type": "markdown",
   "metadata": {},
   "source": [
    "# AND Gate"
   ]
  },
  {
   "cell_type": "code",
   "execution_count": 3,
   "metadata": {},
   "outputs": [
    {
     "name": "stdout",
     "output_type": "stream",
     "text": [
      "[0.22260755 0.58157063 0.1782617 ]\n",
      "[0 0 1]: 33.27826169575134 -> 0\n",
      "[0 1 1]: 66.95983232550174 -> 0\n",
      "[1 0 1]: 66.60086924912267 -> 0\n",
      "[1 1 1]: 100.28243987887306 -> 1\n"
     ]
    }
   ],
   "source": [
    "step_function = lambda x: 0 if x < 100 else 1\n",
    "# if input to function is < 100, do nothing, else fire 1\n",
    "# why 100? \n",
    "# no reason, neuron will read data and learn weights that so with input\n",
    "\n",
    "\n",
    "\n",
    "training_data = [\n",
    "    (array([0,0 ,1]), 0),\n",
    "    (array([0,1, 1]), 0),\n",
    "    (array([1,0, 1]), 0),\n",
    "    (array([1,1, 1]), 1),\n",
    "]\n",
    "# first two columns = x1 and x2 = input of gate\n",
    "# third column = bias constant\n",
    "# fourth column = y, output\n",
    "\n",
    "w = random.rand(3)\n",
    "print(w)\n",
    "# random numbers for initialization of weight\n",
    "\n",
    "errors = [] \n",
    "# array to capture errors made by neuron, aka, misfiring\n",
    "# when should be 1 but neuron says 0\n",
    "# errors = difference between what is expected and what is received\n",
    "\n",
    "eta = 0.1\n",
    "# will address later\n",
    "\n",
    "n = 100000\n",
    "# no of iterations\n",
    "# how many times should neuron read data/learn relationship\n",
    "\n",
    "for i in range(n):\n",
    "    x, expected = choice(training_data)\n",
    "    # choice = function to fandonly pick up one of the records\n",
    "    # separate x and y columns\n",
    "    # x = inner array in trainig data ex: array([0,0 ,1])\n",
    "\n",
    "\n",
    "    result = dot(w, x)\n",
    "    # weighted addition\n",
    "    # linear summation: w1x1 + w2x2 + w3b3\n",
    "    error = expected - step_function(result)\n",
    "    # input summation to step function\n",
    "    # step function checks whether input value is < 100, if so do nothing, else output 1\n",
    "    errors.append(error)\n",
    "    w += eta * error * x\n",
    "\n",
    "for x, _ in training_data:\n",
    "    result = dot(x, w)\n",
    "    print(\"{}: {} -> {}\".format(x[:3], result, step_function(result)))\n"
   ]
  },
  {
   "cell_type": "markdown",
   "metadata": {},
   "source": [
    "# OR Gate"
   ]
  },
  {
   "cell_type": "code",
   "execution_count": 6,
   "metadata": {},
   "outputs": [
    {
     "name": "stdout",
     "output_type": "stream",
     "text": [
      "[0.62282382 0.12897327 0.51633325]\n",
      "[0 0 1]: 62.61633324553343 -> 0\n",
      "[0 1 1]: 100.14530651356402 -> 1\n",
      "[1 0 1]: 102.23915706609517 -> 1\n",
      "[1 1 1]: 139.76813033412577 -> 1\n"
     ]
    }
   ],
   "source": [
    "step_function = lambda x: 0 if x < 100 else 1\n",
    "\n",
    "training_data = [\n",
    "    (array([0,0 ,1]), 0),\n",
    "    (array([0,1, 1]), 1),\n",
    "    (array([1,0, 1]), 1),\n",
    "    (array([1,1, 1]), 1),\n",
    "]\n",
    "# everything remains the same except the data\n",
    "# specifically, the outputs\n",
    "\n",
    "w = random.rand(3)\n",
    "print(w)\n",
    "\n",
    "errors = [] \n",
    "eta = 0.1\n",
    "n = 100000\n",
    "\n",
    "for i in range(n):\n",
    "    x, expected = choice(training_data)\n",
    "    result = dot(w, x)\n",
    "    error = expected - step_function(result)\n",
    "    errors.append(error)\n",
    "    w += eta * error * x\n",
    "\n",
    "for x, _ in training_data:\n",
    "    result = dot(x, w)\n",
    "    print(\"{}: {} -> {}\".format(x[:3], result, step_function(result)))\n"
   ]
  },
  {
   "cell_type": "markdown",
   "metadata": {},
   "source": [
    "# XNOR Gate"
   ]
  },
  {
   "cell_type": "code",
   "execution_count": 5,
   "metadata": {},
   "outputs": [
    {
     "name": "stdout",
     "output_type": "stream",
     "text": [
      "[0.02788483 0.02236045 0.34119398]\n",
      "[0 0 1]: 99.94119398097115 -> 0\n",
      "[0 1 1]: 100.06355442698028 -> 1\n",
      "[1 0 1]: 99.96907881342158 -> 0\n",
      "[1 1 1]: 100.0914392594307 -> 1\n"
     ]
    }
   ],
   "source": [
    "step_function = lambda x: 0 if x < 100 else 1\n",
    "\n",
    "training_data = [\n",
    "    (array([0,0 ,1]), 1),\n",
    "    (array([0,1, 1]), 0),\n",
    "    (array([1,0, 1]), 0),\n",
    "    (array([1,1, 1]), 1),\n",
    "]\n",
    "\n",
    "w = random.rand(3)\n",
    "print(w)\n",
    "\n",
    "errors = [] \n",
    "eta = 0.1\n",
    "n = 100000\n",
    "\n",
    "for i in range(n):\n",
    "    x, expected = choice(training_data)\n",
    "    result = dot(w, x)\n",
    "    error = expected - step_function(result)\n",
    "    errors.append(error)\n",
    "    w += eta * error * x\n",
    "\n",
    "for x, _ in training_data:\n",
    "    result = dot(x, w)\n",
    "    print(\"{}: {} -> {}\".format(x[:3], result, step_function(result)))\n"
   ]
  },
  {
   "cell_type": "code",
   "execution_count": 4,
   "metadata": {},
   "outputs": [],
   "source": [
    "# MCNeuron for And\n",
    "w = random.rand(2)\n",
    "w[1] = 1\n",
    "w[0] = 1\n",
    "\n",
    "training_data = [\n",
    "    (array([0,0]), 0),\n",
    "    (array([0,1]), 0),\n",
    "    (array([1,0]), 0),\n",
    "    (array([1,1]), 1),\n",
    "]\n",
    "\n",
    "step_function = lambda x: 0 if x < 2 else 1    # Step function with threshold of 2. Anything below is 0 "
   ]
  },
  {
   "cell_type": "code",
   "execution_count": 5,
   "metadata": {},
   "outputs": [
    {
     "name": "stdout",
     "output_type": "stream",
     "text": [
      "[0 0]: 0.0 -> 0\n",
      "[0 1]: 1.0 -> 0\n",
      "[1 0]: 1.0 -> 0\n",
      "[1 1]: 2.0 -> 1\n"
     ]
    }
   ],
   "source": [
    "for x, _ in training_data:\n",
    "    result = dot(x, w)\n",
    "\n",
    "    print(\"{}: {} -> {}\".format(x[:2], result, step_function(result)))\n"
   ]
  },
  {
   "cell_type": "code",
   "execution_count": 6,
   "metadata": {},
   "outputs": [],
   "source": [
    "# MCNeruon for OR\n",
    "w = random.rand(2)\n",
    "w[1] = 1\n",
    "w[0] = 1\n",
    "\n",
    "training_data = [\n",
    "    (array([0,0]), 0),\n",
    "    (array([0,1]), 1),\n",
    "    (array([1,0]), 1),\n",
    "    (array([1,1]), 1),\n",
    "]\n",
    "\n",
    "step_function = lambda x: 0 if x < 1 else 1    # Step function with threshold of 1. Anything below is 0 \n"
   ]
  },
  {
   "cell_type": "code",
   "execution_count": 7,
   "metadata": {},
   "outputs": [
    {
     "name": "stdout",
     "output_type": "stream",
     "text": [
      "[0 0]: 0.0 -> 0\n",
      "[0 1]: 1.0 -> 1\n",
      "[1 0]: 1.0 -> 1\n",
      "[1 1]: 2.0 -> 1\n"
     ]
    }
   ],
   "source": [
    "for x, _ in training_data:\n",
    "    result = dot(x, w)\n",
    "\n",
    "    print(\"{}: {} -> {}\".format(x[:2], result, step_function(result)))\n"
   ]
  },
  {
   "cell_type": "code",
   "execution_count": 7,
   "metadata": {},
   "outputs": [
    {
     "name": "stdout",
     "output_type": "stream",
     "text": [
      "[0 0]: 0.0 -> 1\n",
      "[0 1]: 1.0 -> 1\n",
      "[1 0]: 1.0 -> 1\n",
      "[1 1]: 2.0 -> 0\n"
     ]
    }
   ],
   "source": [
    "# MCNeuron for NAND\n",
    "\n",
    "step_function = lambda x: 0 if x >= 2 else 1    # Step function with threshold of > 2 is 0 \n",
    "\n",
    "w[1] = 1\n",
    "w[0] = 1\n",
    "\n",
    "training_data = [\n",
    "    (array([0,0]), 1),\n",
    "    (array([0,1]), 1),\n",
    "    (array([1,0]), 1),\n",
    "    (array([1,1]), 0),\n",
    "]\n",
    "\n",
    "for x, _ in training_data:\n",
    "    result = dot(x, w)\n",
    "\n",
    "    print(\"{}: {} -> {}\".format(x[:2], result, step_function(result)))\n"
   ]
  },
  {
   "cell_type": "code",
   "execution_count": 20,
   "metadata": {},
   "outputs": [
    {
     "name": "stdout",
     "output_type": "stream",
     "text": [
      "[0 0 1]: 62.61164356460525 -> 0\n",
      "[0 1 1]: 100.0430120227679 -> 1\n",
      "[1 0 1]: 101.11497157196007 -> 1\n",
      "[1 1 1]: 138.5463400301227 -> 1\n"
     ]
    }
   ],
   "source": [
    "# OR function in RB Neuron\n",
    "\n",
    "\n",
    "step_function = lambda x: 0 if x < 100 else 1    # Step function with threshold of 0.5. Anything below is 0 \n",
    "\n",
    "\n",
    "# AND gate\n",
    "training_data = [\n",
    "    (array([0,0 ,1]), 0),\n",
    "    (array([0,1, 1]), 1),\n",
    "    (array([1,0, 1]), 1),\n",
    "    (array([1,1, 1]), 1),\n",
    "]\n",
    "\n",
    "w = random.rand(3)\n",
    "b = .1    # initializing bias term\n",
    "errors = []\n",
    "eta = 0.1\n",
    "n = 10000\n",
    "\n",
    "for i in range(n):\n",
    "    x, expected = choice(training_data)\n",
    "    \n",
    "   # w = np.append(w, b)\n",
    "\n",
    "    result = dot(w, x)\n",
    "    error = expected - step_function(result)   # irrespective of what threshold we set, the algo will find the approp weights\n",
    "    errors.append(error)                       # that is the beauty of bias. The 'OR' pattern is learnt from data\n",
    "    w += eta * error * x\n",
    "\n",
    "for x, _ in training_data:\n",
    "    result = dot(x, w)\n",
    "    print(\"{}: {} -> {}\".format(x[:3], result, step_function(result)))\n"
   ]
  },
  {
   "cell_type": "code",
   "execution_count": null,
   "metadata": {},
   "outputs": [],
   "source": []
  },
  {
   "cell_type": "code",
   "execution_count": null,
   "metadata": {},
   "outputs": [],
   "source": []
  }
 ],
 "metadata": {
  "kernelspec": {
   "display_name": "Python 3",
   "language": "python",
   "name": "python3"
  },
  "language_info": {
   "codemirror_mode": {
    "name": "ipython",
    "version": 3
   },
   "file_extension": ".py",
   "mimetype": "text/x-python",
   "name": "python",
   "nbconvert_exporter": "python",
   "pygments_lexer": "ipython3",
   "version": "3.8.8"
  }
 },
 "nbformat": 4,
 "nbformat_minor": 2
}
