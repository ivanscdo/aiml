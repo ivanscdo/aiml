{
 "cells": [
  {
   "cell_type": "code",
   "execution_count": 1,
   "metadata": {
    "ExecuteTime": {
     "end_time": "2020-11-02T05:50:31.370051Z",
     "start_time": "2020-11-02T05:50:31.366237Z"
    }
   },
   "outputs": [],
   "source": [
    "\n",
    "import warnings\n",
    "warnings.filterwarnings('ignore')\n"
   ]
  },
  {
   "cell_type": "code",
   "execution_count": 2,
   "metadata": {
    "ExecuteTime": {
     "end_time": "2020-11-02T05:50:32.599676Z",
     "start_time": "2020-11-02T05:50:31.733486Z"
    }
   },
   "outputs": [],
   "source": [
    "# Import important library\n",
    "\n",
    "import numpy as np\n",
    "import pandas as pd\n",
    "import matplotlib.pyplot as plt\n",
    "import seaborn as sns\n",
    "%matplotlib inline\n",
    "\n",
    "pd.set_option(\"max_columns\", None)\n",
    "pd.set_option(\"max_rows\", 200)"
   ]
  },
  {
   "cell_type": "code",
   "execution_count": 3,
   "metadata": {
    "ExecuteTime": {
     "end_time": "2020-11-02T05:50:33.130031Z",
     "start_time": "2020-11-02T05:50:32.601727Z"
    }
   },
   "outputs": [],
   "source": [
    "from sklearn.model_selection import train_test_split"
   ]
  },
  {
   "cell_type": "code",
   "execution_count": 4,
   "metadata": {
    "ExecuteTime": {
     "end_time": "2020-11-02T05:50:33.138780Z",
     "start_time": "2020-11-02T05:50:33.133421Z"
    }
   },
   "outputs": [],
   "source": [
    "from utils import *"
   ]
  },
  {
   "cell_type": "code",
   "execution_count": 5,
   "metadata": {
    "ExecuteTime": {
     "end_time": "2020-11-02T05:50:33.144304Z",
     "start_time": "2020-11-02T05:50:33.140975Z"
    }
   },
   "outputs": [],
   "source": [
    "SEED = 8"
   ]
  },
  {
   "cell_type": "code",
   "execution_count": 6,
   "metadata": {
    "ExecuteTime": {
     "end_time": "2020-11-02T05:50:33.241077Z",
     "start_time": "2020-11-02T05:50:33.237683Z"
    }
   },
   "outputs": [],
   "source": [
    "INPUT_FILE = \"concrete_wd_features.csv\"\n",
    "INPUT_DIR = \"./\""
   ]
  },
  {
   "cell_type": "code",
   "execution_count": 7,
   "metadata": {
    "ExecuteTime": {
     "end_time": "2020-11-02T05:50:33.622875Z",
     "start_time": "2020-11-02T05:50:33.606930Z"
    }
   },
   "outputs": [],
   "source": [
    "df = read_input(INPUT_DIR, INPUT_FILE)"
   ]
  },
  {
   "cell_type": "code",
   "execution_count": 8,
   "metadata": {
    "ExecuteTime": {
     "end_time": "2020-11-02T05:50:33.962214Z",
     "start_time": "2020-11-02T05:50:33.954381Z"
    }
   },
   "outputs": [
    {
     "data": {
      "text/plain": [
       "(1030, 18)"
      ]
     },
     "execution_count": 8,
     "metadata": {},
     "output_type": "execute_result"
    }
   ],
   "source": [
    "df.shape"
   ]
  },
  {
   "cell_type": "code",
   "execution_count": 19,
   "metadata": {
    "ExecuteTime": {
     "end_time": "2020-11-02T05:50:34.297992Z",
     "start_time": "2020-11-02T05:50:34.289135Z"
    }
   },
   "outputs": [],
   "source": [
    "# Separating dependent and independent variables\n",
    "X = df.drop('strength',axis=1)\n",
    "Y = df['strength']"
   ]
  },
  {
   "cell_type": "code",
   "execution_count": 20,
   "metadata": {
    "ExecuteTime": {
     "end_time": "2020-11-02T05:50:34.608947Z",
     "start_time": "2020-11-02T05:50:34.605404Z"
    }
   },
   "outputs": [],
   "source": [
    "features = X.columns.tolist()"
   ]
  },
  {
   "cell_type": "code",
   "execution_count": 21,
   "metadata": {
    "ExecuteTime": {
     "end_time": "2020-11-02T05:50:34.947591Z",
     "start_time": "2020-11-02T05:50:34.939676Z"
    }
   },
   "outputs": [],
   "source": [
    "# Splitting the data into train and test\n",
    "X_train, X_validation, Y_train, Y_validation = train_test_split(X, Y , test_size=0.3, random_state=SEED)"
   ]
  },
  {
   "cell_type": "code",
   "execution_count": 12,
   "metadata": {
    "ExecuteTime": {
     "end_time": "2020-11-02T05:50:35.404793Z",
     "start_time": "2020-11-02T05:50:35.281532Z"
    }
   },
   "outputs": [],
   "source": [
    "from sklearn.pipeline import Pipeline\n",
    "from sklearn.model_selection import cross_val_score, KFold\n",
    "from sklearn.linear_model import LinearRegression\n",
    "from sklearn.preprocessing import StandardScaler\n",
    "from sklearn.ensemble import RandomForestRegressor\n",
    "from sklearn.ensemble import GradientBoostingRegressor\n",
    "from sklearn.ensemble import AdaBoostRegressor\n",
    "from sklearn.tree import DecisionTreeRegressor"
   ]
  },
  {
   "cell_type": "code",
   "execution_count": 13,
   "metadata": {
    "ExecuteTime": {
     "end_time": "2020-11-02T05:50:35.657324Z",
     "start_time": "2020-11-02T05:50:35.653781Z"
    }
   },
   "outputs": [],
   "source": [
    "k =  KFold(random_state=SEED, n_splits=5)\n",
    "# KFold will split the data in 5 equal parts"
   ]
  },
  {
   "cell_type": "markdown",
   "metadata": {},
   "source": [
    "____________"
   ]
  },
  {
   "cell_type": "markdown",
   "metadata": {},
   "source": [
    "### 2. Hyper Parameter Tuning *(15 marks)*"
   ]
  },
  {
   "cell_type": "code",
   "execution_count": 14,
   "metadata": {
    "ExecuteTime": {
     "end_time": "2020-11-02T05:50:36.648502Z",
     "start_time": "2020-11-02T05:50:36.644362Z"
    }
   },
   "outputs": [],
   "source": [
    "from sklearn.model_selection import GridSearchCV\n",
    "from sklearn.model_selection import RandomizedSearchCV\n",
    "from sklearn.metrics import mean_squared_error"
   ]
  },
  {
   "cell_type": "markdown",
   "metadata": {},
   "source": [
    "**Grid Search on Random Forest**"
   ]
  },
  {
   "cell_type": "code",
   "execution_count": 15,
   "metadata": {
    "ExecuteTime": {
     "end_time": "2020-11-02T05:50:37.276029Z",
     "start_time": "2020-11-02T05:50:37.269991Z"
    }
   },
   "outputs": [
    {
     "data": {
      "text/plain": [
       "['n_estimators', 'max_depth', 'min_samples_split']"
      ]
     },
     "execution_count": 15,
     "metadata": {},
     "output_type": "execute_result"
    }
   ],
   "source": [
    "#['n_estimators', 'max_depth', 'min_samples_split']\n",
    "#['n_estimators', 'max_depth', 'min_samples_split'] + ['learning_rate']"
   ]
  },
  {
   "cell_type": "code",
   "execution_count": 15,
   "metadata": {},
   "outputs": [
    {
     "data": {
      "text/plain": [
       "1030"
      ]
     },
     "execution_count": 15,
     "metadata": {},
     "output_type": "execute_result"
    }
   ],
   "source": [
    "len(X)"
   ]
  },
  {
   "cell_type": "code",
   "execution_count": 18,
   "metadata": {},
   "outputs": [],
   "source": [
    "del df['b']"
   ]
  },
  {
   "cell_type": "code",
   "execution_count": 17,
   "metadata": {},
   "outputs": [
    {
     "data": {
      "text/html": [
       "<div>\n",
       "<style scoped>\n",
       "    .dataframe tbody tr th:only-of-type {\n",
       "        vertical-align: middle;\n",
       "    }\n",
       "\n",
       "    .dataframe tbody tr th {\n",
       "        vertical-align: top;\n",
       "    }\n",
       "\n",
       "    .dataframe thead th {\n",
       "        text-align: right;\n",
       "    }\n",
       "</style>\n",
       "<table border=\"1\" class=\"dataframe\">\n",
       "  <thead>\n",
       "    <tr style=\"text-align: right;\">\n",
       "      <th></th>\n",
       "      <th>cement</th>\n",
       "      <th>slag</th>\n",
       "      <th>ash</th>\n",
       "      <th>water</th>\n",
       "      <th>superplastic</th>\n",
       "      <th>coarseagg</th>\n",
       "      <th>fineagg</th>\n",
       "      <th>age</th>\n",
       "      <th>strength</th>\n",
       "      <th>b</th>\n",
       "      <th>r_water_cement</th>\n",
       "      <th>r_coarseagg_fineagg</th>\n",
       "      <th>r_slag_cement</th>\n",
       "      <th>p_ash_water</th>\n",
       "      <th>agg_flag</th>\n",
       "      <th>slag_flag</th>\n",
       "      <th>ash_flag</th>\n",
       "      <th>superplastic_flag</th>\n",
       "    </tr>\n",
       "  </thead>\n",
       "  <tbody>\n",
       "    <tr>\n",
       "      <th>0</th>\n",
       "      <td>141.3</td>\n",
       "      <td>212.0</td>\n",
       "      <td>0.0</td>\n",
       "      <td>203.5</td>\n",
       "      <td>0.0</td>\n",
       "      <td>971.8</td>\n",
       "      <td>748.5</td>\n",
       "      <td>3.332205</td>\n",
       "      <td>29.89</td>\n",
       "      <td>(192.0, 236.0]</td>\n",
       "      <td>1.440198</td>\n",
       "      <td>1.298330</td>\n",
       "      <td>1.500354</td>\n",
       "      <td>0.00</td>\n",
       "      <td>True</td>\n",
       "      <td>True</td>\n",
       "      <td>False</td>\n",
       "      <td>False</td>\n",
       "    </tr>\n",
       "    <tr>\n",
       "      <th>1</th>\n",
       "      <td>168.9</td>\n",
       "      <td>42.2</td>\n",
       "      <td>124.3</td>\n",
       "      <td>158.3</td>\n",
       "      <td>10.8</td>\n",
       "      <td>1080.8</td>\n",
       "      <td>796.2</td>\n",
       "      <td>2.639057</td>\n",
       "      <td>23.51</td>\n",
       "      <td>(22.0, 50.095]</td>\n",
       "      <td>0.937241</td>\n",
       "      <td>1.357448</td>\n",
       "      <td>0.249852</td>\n",
       "      <td>19676.69</td>\n",
       "      <td>True</td>\n",
       "      <td>True</td>\n",
       "      <td>True</td>\n",
       "      <td>True</td>\n",
       "    </tr>\n",
       "    <tr>\n",
       "      <th>2</th>\n",
       "      <td>250.0</td>\n",
       "      <td>0.0</td>\n",
       "      <td>95.7</td>\n",
       "      <td>187.4</td>\n",
       "      <td>5.5</td>\n",
       "      <td>956.9</td>\n",
       "      <td>861.2</td>\n",
       "      <td>3.332205</td>\n",
       "      <td>29.22</td>\n",
       "      <td>(-0.001, 22.0]</td>\n",
       "      <td>0.749600</td>\n",
       "      <td>1.111124</td>\n",
       "      <td>0.000000</td>\n",
       "      <td>17934.18</td>\n",
       "      <td>True</td>\n",
       "      <td>False</td>\n",
       "      <td>True</td>\n",
       "      <td>True</td>\n",
       "    </tr>\n",
       "    <tr>\n",
       "      <th>3</th>\n",
       "      <td>266.0</td>\n",
       "      <td>114.0</td>\n",
       "      <td>0.0</td>\n",
       "      <td>228.0</td>\n",
       "      <td>0.0</td>\n",
       "      <td>932.0</td>\n",
       "      <td>670.0</td>\n",
       "      <td>3.332205</td>\n",
       "      <td>45.85</td>\n",
       "      <td>(106.3, 128.5]</td>\n",
       "      <td>0.857143</td>\n",
       "      <td>1.391045</td>\n",
       "      <td>0.428571</td>\n",
       "      <td>0.00</td>\n",
       "      <td>True</td>\n",
       "      <td>True</td>\n",
       "      <td>False</td>\n",
       "      <td>False</td>\n",
       "    </tr>\n",
       "    <tr>\n",
       "      <th>4</th>\n",
       "      <td>154.8</td>\n",
       "      <td>183.4</td>\n",
       "      <td>0.0</td>\n",
       "      <td>193.3</td>\n",
       "      <td>9.1</td>\n",
       "      <td>1047.4</td>\n",
       "      <td>696.7</td>\n",
       "      <td>3.332205</td>\n",
       "      <td>18.29</td>\n",
       "      <td>(163.18, 185.755]</td>\n",
       "      <td>1.248708</td>\n",
       "      <td>1.503373</td>\n",
       "      <td>1.184755</td>\n",
       "      <td>0.00</td>\n",
       "      <td>True</td>\n",
       "      <td>True</td>\n",
       "      <td>False</td>\n",
       "      <td>True</td>\n",
       "    </tr>\n",
       "  </tbody>\n",
       "</table>\n",
       "</div>"
      ],
      "text/plain": [
       "   cement   slag    ash  water  superplastic  coarseagg  fineagg       age  \\\n",
       "0   141.3  212.0    0.0  203.5           0.0      971.8    748.5  3.332205   \n",
       "1   168.9   42.2  124.3  158.3          10.8     1080.8    796.2  2.639057   \n",
       "2   250.0    0.0   95.7  187.4           5.5      956.9    861.2  3.332205   \n",
       "3   266.0  114.0    0.0  228.0           0.0      932.0    670.0  3.332205   \n",
       "4   154.8  183.4    0.0  193.3           9.1     1047.4    696.7  3.332205   \n",
       "\n",
       "   strength                  b  r_water_cement  r_coarseagg_fineagg  \\\n",
       "0     29.89     (192.0, 236.0]        1.440198             1.298330   \n",
       "1     23.51     (22.0, 50.095]        0.937241             1.357448   \n",
       "2     29.22     (-0.001, 22.0]        0.749600             1.111124   \n",
       "3     45.85     (106.3, 128.5]        0.857143             1.391045   \n",
       "4     18.29  (163.18, 185.755]        1.248708             1.503373   \n",
       "\n",
       "   r_slag_cement  p_ash_water  agg_flag  slag_flag  ash_flag  \\\n",
       "0       1.500354         0.00      True       True     False   \n",
       "1       0.249852     19676.69      True       True      True   \n",
       "2       0.000000     17934.18      True      False      True   \n",
       "3       0.428571         0.00      True       True     False   \n",
       "4       1.184755         0.00      True       True     False   \n",
       "\n",
       "   superplastic_flag  \n",
       "0              False  \n",
       "1               True  \n",
       "2               True  \n",
       "3              False  \n",
       "4               True  "
      ]
     },
     "execution_count": 17,
     "metadata": {},
     "output_type": "execute_result"
    }
   ],
   "source": [
    "df.head()"
   ]
  },
  {
   "cell_type": "code",
   "execution_count": 22,
   "metadata": {
    "ExecuteTime": {
     "end_time": "2020-11-02T05:50:50.120778Z",
     "start_time": "2020-11-02T05:50:37.594988Z"
    }
   },
   "outputs": [
    {
     "data": {
      "text/plain": [
       "RandomizedSearchCV(cv=KFold(n_splits=5, random_state=8, shuffle=False),\n",
       "                   estimator=RandomForestRegressor(n_jobs=-1, random_state=8),\n",
       "                   n_iter=30, n_jobs=-1,\n",
       "                   param_distributions={'max_depth': [1, 3, 5, 7, 10, 15, 20,\n",
       "                                                      30],\n",
       "                                        'min_samples_split': [5, 30, 50, 100],\n",
       "                                        'n_estimators': [10, 25, 100, 200,\n",
       "                                                         300]})"
      ]
     },
     "execution_count": 22,
     "metadata": {},
     "output_type": "execute_result"
    }
   ],
   "source": [
    "\n",
    "rf = RandomForestRegressor(random_state=SEED,\n",
    "                           n_jobs=-1)\n",
    "\n",
    "params = {\n",
    "    #'bootstrap': [True,False],\n",
    "    'max_depth': [1,3,5,7,10,15,20,30],\n",
    "    #'max_features': ['sqrt','log2'],\n",
    "    #'min_samples_leaf': [1,3, 4],\n",
    "    'min_samples_split': [5,30,50,100],\n",
    "    'n_estimators': [10,25,100,200,300]\n",
    "}    \n",
    "\n",
    "grid = RandomizedSearchCV(rf,\n",
    "                          params,\n",
    "                          cv = k,\n",
    "                          n_jobs=-1,\n",
    "                          n_iter=30)\n",
    "\n",
    "grid.fit(X,Y)"
   ]
  },
  {
   "cell_type": "code",
   "execution_count": 23,
   "metadata": {
    "ExecuteTime": {
     "end_time": "2020-11-02T05:50:50.130345Z",
     "start_time": "2020-11-02T05:50:50.123995Z"
    }
   },
   "outputs": [
    {
     "data": {
      "text/plain": [
       "{'n_estimators': 200, 'min_samples_split': 5, 'max_depth': 20}"
      ]
     },
     "execution_count": 23,
     "metadata": {},
     "output_type": "execute_result"
    }
   ],
   "source": [
    "grid.best_params_"
   ]
  },
  {
   "cell_type": "code",
   "execution_count": 24,
   "metadata": {
    "ExecuteTime": {
     "end_time": "2020-11-02T05:50:50.137913Z",
     "start_time": "2020-11-02T05:50:50.132467Z"
    }
   },
   "outputs": [],
   "source": [
    "grid_results = pd.DataFrame(grid.cv_results_)"
   ]
  },
  {
   "cell_type": "code",
   "execution_count": 25,
   "metadata": {
    "ExecuteTime": {
     "end_time": "2020-11-01T16:57:24.021943Z",
     "start_time": "2020-11-01T16:57:23.974817Z"
    },
    "collapsed": true
   },
   "outputs": [
    {
     "data": {
      "text/html": [
       "<div>\n",
       "<style scoped>\n",
       "    .dataframe tbody tr th:only-of-type {\n",
       "        vertical-align: middle;\n",
       "    }\n",
       "\n",
       "    .dataframe tbody tr th {\n",
       "        vertical-align: top;\n",
       "    }\n",
       "\n",
       "    .dataframe thead th {\n",
       "        text-align: right;\n",
       "    }\n",
       "</style>\n",
       "<table border=\"1\" class=\"dataframe\">\n",
       "  <thead>\n",
       "    <tr style=\"text-align: right;\">\n",
       "      <th></th>\n",
       "      <th>mean_fit_time</th>\n",
       "      <th>std_fit_time</th>\n",
       "      <th>mean_score_time</th>\n",
       "      <th>std_score_time</th>\n",
       "      <th>param_n_estimators</th>\n",
       "      <th>param_min_samples_split</th>\n",
       "      <th>param_max_depth</th>\n",
       "      <th>params</th>\n",
       "      <th>split0_test_score</th>\n",
       "      <th>split1_test_score</th>\n",
       "      <th>split2_test_score</th>\n",
       "      <th>split3_test_score</th>\n",
       "      <th>split4_test_score</th>\n",
       "      <th>mean_test_score</th>\n",
       "      <th>std_test_score</th>\n",
       "      <th>rank_test_score</th>\n",
       "    </tr>\n",
       "  </thead>\n",
       "  <tbody>\n",
       "    <tr>\n",
       "      <th>0</th>\n",
       "      <td>0.275825</td>\n",
       "      <td>0.004847</td>\n",
       "      <td>0.022288</td>\n",
       "      <td>0.001606</td>\n",
       "      <td>100</td>\n",
       "      <td>100</td>\n",
       "      <td>1</td>\n",
       "      <td>{'n_estimators': 100, 'min_samples_split': 100...</td>\n",
       "      <td>0.405726</td>\n",
       "      <td>0.349298</td>\n",
       "      <td>0.378335</td>\n",
       "      <td>0.313558</td>\n",
       "      <td>0.344414</td>\n",
       "      <td>0.358266</td>\n",
       "      <td>0.031389</td>\n",
       "      <td>30</td>\n",
       "    </tr>\n",
       "    <tr>\n",
       "      <th>1</th>\n",
       "      <td>0.121589</td>\n",
       "      <td>0.021625</td>\n",
       "      <td>0.023209</td>\n",
       "      <td>0.006878</td>\n",
       "      <td>25</td>\n",
       "      <td>30</td>\n",
       "      <td>15</td>\n",
       "      <td>{'n_estimators': 25, 'min_samples_split': 30, ...</td>\n",
       "      <td>0.832607</td>\n",
       "      <td>0.870428</td>\n",
       "      <td>0.857754</td>\n",
       "      <td>0.879057</td>\n",
       "      <td>0.837294</td>\n",
       "      <td>0.855428</td>\n",
       "      <td>0.018102</td>\n",
       "      <td>5</td>\n",
       "    </tr>\n",
       "    <tr>\n",
       "      <th>2</th>\n",
       "      <td>0.797510</td>\n",
       "      <td>0.077784</td>\n",
       "      <td>0.039071</td>\n",
       "      <td>0.003539</td>\n",
       "      <td>200</td>\n",
       "      <td>30</td>\n",
       "      <td>5</td>\n",
       "      <td>{'n_estimators': 200, 'min_samples_split': 30,...</td>\n",
       "      <td>0.813517</td>\n",
       "      <td>0.824246</td>\n",
       "      <td>0.841956</td>\n",
       "      <td>0.850799</td>\n",
       "      <td>0.801239</td>\n",
       "      <td>0.826351</td>\n",
       "      <td>0.018116</td>\n",
       "      <td>7</td>\n",
       "    </tr>\n",
       "    <tr>\n",
       "      <th>3</th>\n",
       "      <td>0.360669</td>\n",
       "      <td>0.154687</td>\n",
       "      <td>0.028231</td>\n",
       "      <td>0.003575</td>\n",
       "      <td>100</td>\n",
       "      <td>100</td>\n",
       "      <td>10</td>\n",
       "      <td>{'n_estimators': 100, 'min_samples_split': 100...</td>\n",
       "      <td>0.741492</td>\n",
       "      <td>0.740331</td>\n",
       "      <td>0.744035</td>\n",
       "      <td>0.750569</td>\n",
       "      <td>0.694455</td>\n",
       "      <td>0.734176</td>\n",
       "      <td>0.020175</td>\n",
       "      <td>15</td>\n",
       "    </tr>\n",
       "    <tr>\n",
       "      <th>4</th>\n",
       "      <td>0.155540</td>\n",
       "      <td>0.057493</td>\n",
       "      <td>0.029756</td>\n",
       "      <td>0.012775</td>\n",
       "      <td>25</td>\n",
       "      <td>30</td>\n",
       "      <td>7</td>\n",
       "      <td>{'n_estimators': 25, 'min_samples_split': 30, ...</td>\n",
       "      <td>0.829622</td>\n",
       "      <td>0.857974</td>\n",
       "      <td>0.856027</td>\n",
       "      <td>0.874726</td>\n",
       "      <td>0.833773</td>\n",
       "      <td>0.850425</td>\n",
       "      <td>0.016667</td>\n",
       "      <td>6</td>\n",
       "    </tr>\n",
       "    <tr>\n",
       "      <th>5</th>\n",
       "      <td>0.879005</td>\n",
       "      <td>0.055945</td>\n",
       "      <td>0.038936</td>\n",
       "      <td>0.001513</td>\n",
       "      <td>200</td>\n",
       "      <td>5</td>\n",
       "      <td>20</td>\n",
       "      <td>{'n_estimators': 200, 'min_samples_split': 5, ...</td>\n",
       "      <td>0.885503</td>\n",
       "      <td>0.930883</td>\n",
       "      <td>0.899812</td>\n",
       "      <td>0.933206</td>\n",
       "      <td>0.906235</td>\n",
       "      <td>0.911128</td>\n",
       "      <td>0.018365</td>\n",
       "      <td>1</td>\n",
       "    </tr>\n",
       "    <tr>\n",
       "      <th>6</th>\n",
       "      <td>0.036548</td>\n",
       "      <td>0.005293</td>\n",
       "      <td>0.011639</td>\n",
       "      <td>0.002531</td>\n",
       "      <td>10</td>\n",
       "      <td>50</td>\n",
       "      <td>3</td>\n",
       "      <td>{'n_estimators': 10, 'min_samples_split': 50, ...</td>\n",
       "      <td>0.678896</td>\n",
       "      <td>0.644482</td>\n",
       "      <td>0.711674</td>\n",
       "      <td>0.716612</td>\n",
       "      <td>0.592235</td>\n",
       "      <td>0.668780</td>\n",
       "      <td>0.046216</td>\n",
       "      <td>23</td>\n",
       "    </tr>\n",
       "    <tr>\n",
       "      <th>7</th>\n",
       "      <td>0.033491</td>\n",
       "      <td>0.002593</td>\n",
       "      <td>0.008001</td>\n",
       "      <td>0.000541</td>\n",
       "      <td>10</td>\n",
       "      <td>5</td>\n",
       "      <td>3</td>\n",
       "      <td>{'n_estimators': 10, 'min_samples_split': 5, '...</td>\n",
       "      <td>0.678622</td>\n",
       "      <td>0.649680</td>\n",
       "      <td>0.722587</td>\n",
       "      <td>0.736399</td>\n",
       "      <td>0.604053</td>\n",
       "      <td>0.678268</td>\n",
       "      <td>0.048309</td>\n",
       "      <td>21</td>\n",
       "    </tr>\n",
       "    <tr>\n",
       "      <th>8</th>\n",
       "      <td>0.728942</td>\n",
       "      <td>0.103752</td>\n",
       "      <td>0.037583</td>\n",
       "      <td>0.000872</td>\n",
       "      <td>200</td>\n",
       "      <td>30</td>\n",
       "      <td>3</td>\n",
       "      <td>{'n_estimators': 200, 'min_samples_split': 30,...</td>\n",
       "      <td>0.689428</td>\n",
       "      <td>0.673591</td>\n",
       "      <td>0.730306</td>\n",
       "      <td>0.735611</td>\n",
       "      <td>0.625209</td>\n",
       "      <td>0.690829</td>\n",
       "      <td>0.040420</td>\n",
       "      <td>19</td>\n",
       "    </tr>\n",
       "    <tr>\n",
       "      <th>9</th>\n",
       "      <td>1.242637</td>\n",
       "      <td>0.188830</td>\n",
       "      <td>0.051253</td>\n",
       "      <td>0.001780</td>\n",
       "      <td>300</td>\n",
       "      <td>100</td>\n",
       "      <td>20</td>\n",
       "      <td>{'n_estimators': 300, 'min_samples_split': 100...</td>\n",
       "      <td>0.739730</td>\n",
       "      <td>0.744522</td>\n",
       "      <td>0.746955</td>\n",
       "      <td>0.752165</td>\n",
       "      <td>0.701181</td>\n",
       "      <td>0.736911</td>\n",
       "      <td>0.018309</td>\n",
       "      <td>11</td>\n",
       "    </tr>\n",
       "    <tr>\n",
       "      <th>10</th>\n",
       "      <td>0.124469</td>\n",
       "      <td>0.086582</td>\n",
       "      <td>0.018962</td>\n",
       "      <td>0.006405</td>\n",
       "      <td>25</td>\n",
       "      <td>50</td>\n",
       "      <td>15</td>\n",
       "      <td>{'n_estimators': 25, 'min_samples_split': 50, ...</td>\n",
       "      <td>0.796950</td>\n",
       "      <td>0.830335</td>\n",
       "      <td>0.816036</td>\n",
       "      <td>0.831635</td>\n",
       "      <td>0.793595</td>\n",
       "      <td>0.813710</td>\n",
       "      <td>0.016054</td>\n",
       "      <td>10</td>\n",
       "    </tr>\n",
       "    <tr>\n",
       "      <th>11</th>\n",
       "      <td>0.043669</td>\n",
       "      <td>0.014453</td>\n",
       "      <td>0.011683</td>\n",
       "      <td>0.003565</td>\n",
       "      <td>10</td>\n",
       "      <td>30</td>\n",
       "      <td>1</td>\n",
       "      <td>{'n_estimators': 10, 'min_samples_split': 30, ...</td>\n",
       "      <td>0.400089</td>\n",
       "      <td>0.361406</td>\n",
       "      <td>0.387505</td>\n",
       "      <td>0.355499</td>\n",
       "      <td>0.320496</td>\n",
       "      <td>0.364999</td>\n",
       "      <td>0.027646</td>\n",
       "      <td>24</td>\n",
       "    </tr>\n",
       "    <tr>\n",
       "      <th>12</th>\n",
       "      <td>0.091639</td>\n",
       "      <td>0.023750</td>\n",
       "      <td>0.013769</td>\n",
       "      <td>0.003300</td>\n",
       "      <td>25</td>\n",
       "      <td>100</td>\n",
       "      <td>10</td>\n",
       "      <td>{'n_estimators': 25, 'min_samples_split': 100,...</td>\n",
       "      <td>0.729423</td>\n",
       "      <td>0.724164</td>\n",
       "      <td>0.726464</td>\n",
       "      <td>0.752883</td>\n",
       "      <td>0.683806</td>\n",
       "      <td>0.723348</td>\n",
       "      <td>0.022285</td>\n",
       "      <td>17</td>\n",
       "    </tr>\n",
       "    <tr>\n",
       "      <th>13</th>\n",
       "      <td>1.220589</td>\n",
       "      <td>0.161494</td>\n",
       "      <td>0.051151</td>\n",
       "      <td>0.001556</td>\n",
       "      <td>300</td>\n",
       "      <td>50</td>\n",
       "      <td>20</td>\n",
       "      <td>{'n_estimators': 300, 'min_samples_split': 50,...</td>\n",
       "      <td>0.811877</td>\n",
       "      <td>0.841099</td>\n",
       "      <td>0.825505</td>\n",
       "      <td>0.830859</td>\n",
       "      <td>0.795914</td>\n",
       "      <td>0.821051</td>\n",
       "      <td>0.015710</td>\n",
       "      <td>9</td>\n",
       "    </tr>\n",
       "    <tr>\n",
       "      <th>14</th>\n",
       "      <td>0.701832</td>\n",
       "      <td>0.074124</td>\n",
       "      <td>0.046622</td>\n",
       "      <td>0.015968</td>\n",
       "      <td>200</td>\n",
       "      <td>100</td>\n",
       "      <td>15</td>\n",
       "      <td>{'n_estimators': 200, 'min_samples_split': 100...</td>\n",
       "      <td>0.740762</td>\n",
       "      <td>0.742246</td>\n",
       "      <td>0.746862</td>\n",
       "      <td>0.753405</td>\n",
       "      <td>0.699050</td>\n",
       "      <td>0.736465</td>\n",
       "      <td>0.019219</td>\n",
       "      <td>12</td>\n",
       "    </tr>\n",
       "    <tr>\n",
       "      <th>15</th>\n",
       "      <td>0.046477</td>\n",
       "      <td>0.011999</td>\n",
       "      <td>0.020205</td>\n",
       "      <td>0.009294</td>\n",
       "      <td>10</td>\n",
       "      <td>30</td>\n",
       "      <td>3</td>\n",
       "      <td>{'n_estimators': 10, 'min_samples_split': 30, ...</td>\n",
       "      <td>0.678622</td>\n",
       "      <td>0.649680</td>\n",
       "      <td>0.722587</td>\n",
       "      <td>0.736399</td>\n",
       "      <td>0.603460</td>\n",
       "      <td>0.678150</td>\n",
       "      <td>0.048491</td>\n",
       "      <td>22</td>\n",
       "    </tr>\n",
       "    <tr>\n",
       "      <th>16</th>\n",
       "      <td>1.015553</td>\n",
       "      <td>0.084774</td>\n",
       "      <td>0.052102</td>\n",
       "      <td>0.002649</td>\n",
       "      <td>300</td>\n",
       "      <td>100</td>\n",
       "      <td>1</td>\n",
       "      <td>{'n_estimators': 300, 'min_samples_split': 100...</td>\n",
       "      <td>0.408419</td>\n",
       "      <td>0.354640</td>\n",
       "      <td>0.375811</td>\n",
       "      <td>0.329206</td>\n",
       "      <td>0.338933</td>\n",
       "      <td>0.361402</td>\n",
       "      <td>0.028303</td>\n",
       "      <td>26</td>\n",
       "    </tr>\n",
       "    <tr>\n",
       "      <th>17</th>\n",
       "      <td>0.332446</td>\n",
       "      <td>0.056602</td>\n",
       "      <td>0.031040</td>\n",
       "      <td>0.008842</td>\n",
       "      <td>100</td>\n",
       "      <td>100</td>\n",
       "      <td>7</td>\n",
       "      <td>{'n_estimators': 100, 'min_samples_split': 100...</td>\n",
       "      <td>0.741492</td>\n",
       "      <td>0.740331</td>\n",
       "      <td>0.744035</td>\n",
       "      <td>0.750569</td>\n",
       "      <td>0.694455</td>\n",
       "      <td>0.734176</td>\n",
       "      <td>0.020175</td>\n",
       "      <td>15</td>\n",
       "    </tr>\n",
       "    <tr>\n",
       "      <th>18</th>\n",
       "      <td>0.042497</td>\n",
       "      <td>0.007522</td>\n",
       "      <td>0.015277</td>\n",
       "      <td>0.004671</td>\n",
       "      <td>10</td>\n",
       "      <td>5</td>\n",
       "      <td>1</td>\n",
       "      <td>{'n_estimators': 10, 'min_samples_split': 5, '...</td>\n",
       "      <td>0.400089</td>\n",
       "      <td>0.361406</td>\n",
       "      <td>0.387505</td>\n",
       "      <td>0.355499</td>\n",
       "      <td>0.320496</td>\n",
       "      <td>0.364999</td>\n",
       "      <td>0.027646</td>\n",
       "      <td>24</td>\n",
       "    </tr>\n",
       "    <tr>\n",
       "      <th>19</th>\n",
       "      <td>0.873820</td>\n",
       "      <td>0.150895</td>\n",
       "      <td>0.041302</td>\n",
       "      <td>0.002983</td>\n",
       "      <td>200</td>\n",
       "      <td>30</td>\n",
       "      <td>20</td>\n",
       "      <td>{'n_estimators': 200, 'min_samples_split': 30,...</td>\n",
       "      <td>0.841283</td>\n",
       "      <td>0.881407</td>\n",
       "      <td>0.858595</td>\n",
       "      <td>0.879393</td>\n",
       "      <td>0.842724</td>\n",
       "      <td>0.860680</td>\n",
       "      <td>0.017221</td>\n",
       "      <td>4</td>\n",
       "    </tr>\n",
       "    <tr>\n",
       "      <th>20</th>\n",
       "      <td>0.086226</td>\n",
       "      <td>0.033911</td>\n",
       "      <td>0.025071</td>\n",
       "      <td>0.006377</td>\n",
       "      <td>25</td>\n",
       "      <td>50</td>\n",
       "      <td>1</td>\n",
       "      <td>{'n_estimators': 25, 'min_samples_split': 50, ...</td>\n",
       "      <td>0.407031</td>\n",
       "      <td>0.341103</td>\n",
       "      <td>0.388597</td>\n",
       "      <td>0.324772</td>\n",
       "      <td>0.334754</td>\n",
       "      <td>0.359252</td>\n",
       "      <td>0.032442</td>\n",
       "      <td>29</td>\n",
       "    </tr>\n",
       "    <tr>\n",
       "      <th>21</th>\n",
       "      <td>1.176539</td>\n",
       "      <td>0.156878</td>\n",
       "      <td>0.043896</td>\n",
       "      <td>0.001716</td>\n",
       "      <td>200</td>\n",
       "      <td>5</td>\n",
       "      <td>15</td>\n",
       "      <td>{'n_estimators': 200, 'min_samples_split': 5, ...</td>\n",
       "      <td>0.885247</td>\n",
       "      <td>0.930133</td>\n",
       "      <td>0.899765</td>\n",
       "      <td>0.932744</td>\n",
       "      <td>0.906372</td>\n",
       "      <td>0.910852</td>\n",
       "      <td>0.018164</td>\n",
       "      <td>2</td>\n",
       "    </tr>\n",
       "    <tr>\n",
       "      <th>22</th>\n",
       "      <td>0.093070</td>\n",
       "      <td>0.017260</td>\n",
       "      <td>0.045953</td>\n",
       "      <td>0.044822</td>\n",
       "      <td>25</td>\n",
       "      <td>5</td>\n",
       "      <td>10</td>\n",
       "      <td>{'n_estimators': 25, 'min_samples_split': 5, '...</td>\n",
       "      <td>0.875113</td>\n",
       "      <td>0.917786</td>\n",
       "      <td>0.899349</td>\n",
       "      <td>0.926438</td>\n",
       "      <td>0.900301</td>\n",
       "      <td>0.903797</td>\n",
       "      <td>0.017681</td>\n",
       "      <td>3</td>\n",
       "    </tr>\n",
       "    <tr>\n",
       "      <th>23</th>\n",
       "      <td>0.636112</td>\n",
       "      <td>0.110913</td>\n",
       "      <td>0.026668</td>\n",
       "      <td>0.003062</td>\n",
       "      <td>100</td>\n",
       "      <td>30</td>\n",
       "      <td>5</td>\n",
       "      <td>{'n_estimators': 100, 'min_samples_split': 30,...</td>\n",
       "      <td>0.811775</td>\n",
       "      <td>0.821535</td>\n",
       "      <td>0.842558</td>\n",
       "      <td>0.851129</td>\n",
       "      <td>0.798418</td>\n",
       "      <td>0.825083</td>\n",
       "      <td>0.019414</td>\n",
       "      <td>8</td>\n",
       "    </tr>\n",
       "    <tr>\n",
       "      <th>24</th>\n",
       "      <td>0.088390</td>\n",
       "      <td>0.033202</td>\n",
       "      <td>0.021383</td>\n",
       "      <td>0.005877</td>\n",
       "      <td>25</td>\n",
       "      <td>30</td>\n",
       "      <td>1</td>\n",
       "      <td>{'n_estimators': 25, 'min_samples_split': 30, ...</td>\n",
       "      <td>0.407031</td>\n",
       "      <td>0.341103</td>\n",
       "      <td>0.388597</td>\n",
       "      <td>0.324772</td>\n",
       "      <td>0.334754</td>\n",
       "      <td>0.359252</td>\n",
       "      <td>0.032442</td>\n",
       "      <td>28</td>\n",
       "    </tr>\n",
       "    <tr>\n",
       "      <th>25</th>\n",
       "      <td>0.811636</td>\n",
       "      <td>0.081931</td>\n",
       "      <td>0.044092</td>\n",
       "      <td>0.000889</td>\n",
       "      <td>200</td>\n",
       "      <td>5</td>\n",
       "      <td>3</td>\n",
       "      <td>{'n_estimators': 200, 'min_samples_split': 5, ...</td>\n",
       "      <td>0.689424</td>\n",
       "      <td>0.673599</td>\n",
       "      <td>0.730645</td>\n",
       "      <td>0.735804</td>\n",
       "      <td>0.625754</td>\n",
       "      <td>0.691045</td>\n",
       "      <td>0.040352</td>\n",
       "      <td>18</td>\n",
       "    </tr>\n",
       "    <tr>\n",
       "      <th>26</th>\n",
       "      <td>0.407283</td>\n",
       "      <td>0.099684</td>\n",
       "      <td>0.036050</td>\n",
       "      <td>0.011647</td>\n",
       "      <td>100</td>\n",
       "      <td>30</td>\n",
       "      <td>3</td>\n",
       "      <td>{'n_estimators': 100, 'min_samples_split': 30,...</td>\n",
       "      <td>0.692240</td>\n",
       "      <td>0.674851</td>\n",
       "      <td>0.727450</td>\n",
       "      <td>0.735573</td>\n",
       "      <td>0.620285</td>\n",
       "      <td>0.690080</td>\n",
       "      <td>0.041410</td>\n",
       "      <td>20</td>\n",
       "    </tr>\n",
       "    <tr>\n",
       "      <th>27</th>\n",
       "      <td>1.009160</td>\n",
       "      <td>0.069251</td>\n",
       "      <td>0.062912</td>\n",
       "      <td>0.002341</td>\n",
       "      <td>300</td>\n",
       "      <td>5</td>\n",
       "      <td>1</td>\n",
       "      <td>{'n_estimators': 300, 'min_samples_split': 5, ...</td>\n",
       "      <td>0.408419</td>\n",
       "      <td>0.354640</td>\n",
       "      <td>0.375811</td>\n",
       "      <td>0.329206</td>\n",
       "      <td>0.338933</td>\n",
       "      <td>0.361402</td>\n",
       "      <td>0.028303</td>\n",
       "      <td>26</td>\n",
       "    </tr>\n",
       "    <tr>\n",
       "      <th>28</th>\n",
       "      <td>0.769352</td>\n",
       "      <td>0.126846</td>\n",
       "      <td>0.046194</td>\n",
       "      <td>0.016555</td>\n",
       "      <td>200</td>\n",
       "      <td>100</td>\n",
       "      <td>20</td>\n",
       "      <td>{'n_estimators': 200, 'min_samples_split': 100...</td>\n",
       "      <td>0.740762</td>\n",
       "      <td>0.742246</td>\n",
       "      <td>0.746862</td>\n",
       "      <td>0.753405</td>\n",
       "      <td>0.699050</td>\n",
       "      <td>0.736465</td>\n",
       "      <td>0.019219</td>\n",
       "      <td>12</td>\n",
       "    </tr>\n",
       "    <tr>\n",
       "      <th>29</th>\n",
       "      <td>0.374253</td>\n",
       "      <td>0.104767</td>\n",
       "      <td>0.036357</td>\n",
       "      <td>0.009253</td>\n",
       "      <td>100</td>\n",
       "      <td>100</td>\n",
       "      <td>20</td>\n",
       "      <td>{'n_estimators': 100, 'min_samples_split': 100...</td>\n",
       "      <td>0.741492</td>\n",
       "      <td>0.740331</td>\n",
       "      <td>0.744035</td>\n",
       "      <td>0.750569</td>\n",
       "      <td>0.694455</td>\n",
       "      <td>0.734176</td>\n",
       "      <td>0.020175</td>\n",
       "      <td>14</td>\n",
       "    </tr>\n",
       "  </tbody>\n",
       "</table>\n",
       "</div>"
      ],
      "text/plain": [
       "    mean_fit_time  std_fit_time  mean_score_time  std_score_time  \\\n",
       "0        0.275825      0.004847         0.022288        0.001606   \n",
       "1        0.121589      0.021625         0.023209        0.006878   \n",
       "2        0.797510      0.077784         0.039071        0.003539   \n",
       "3        0.360669      0.154687         0.028231        0.003575   \n",
       "4        0.155540      0.057493         0.029756        0.012775   \n",
       "5        0.879005      0.055945         0.038936        0.001513   \n",
       "6        0.036548      0.005293         0.011639        0.002531   \n",
       "7        0.033491      0.002593         0.008001        0.000541   \n",
       "8        0.728942      0.103752         0.037583        0.000872   \n",
       "9        1.242637      0.188830         0.051253        0.001780   \n",
       "10       0.124469      0.086582         0.018962        0.006405   \n",
       "11       0.043669      0.014453         0.011683        0.003565   \n",
       "12       0.091639      0.023750         0.013769        0.003300   \n",
       "13       1.220589      0.161494         0.051151        0.001556   \n",
       "14       0.701832      0.074124         0.046622        0.015968   \n",
       "15       0.046477      0.011999         0.020205        0.009294   \n",
       "16       1.015553      0.084774         0.052102        0.002649   \n",
       "17       0.332446      0.056602         0.031040        0.008842   \n",
       "18       0.042497      0.007522         0.015277        0.004671   \n",
       "19       0.873820      0.150895         0.041302        0.002983   \n",
       "20       0.086226      0.033911         0.025071        0.006377   \n",
       "21       1.176539      0.156878         0.043896        0.001716   \n",
       "22       0.093070      0.017260         0.045953        0.044822   \n",
       "23       0.636112      0.110913         0.026668        0.003062   \n",
       "24       0.088390      0.033202         0.021383        0.005877   \n",
       "25       0.811636      0.081931         0.044092        0.000889   \n",
       "26       0.407283      0.099684         0.036050        0.011647   \n",
       "27       1.009160      0.069251         0.062912        0.002341   \n",
       "28       0.769352      0.126846         0.046194        0.016555   \n",
       "29       0.374253      0.104767         0.036357        0.009253   \n",
       "\n",
       "   param_n_estimators param_min_samples_split param_max_depth  \\\n",
       "0                 100                     100               1   \n",
       "1                  25                      30              15   \n",
       "2                 200                      30               5   \n",
       "3                 100                     100              10   \n",
       "4                  25                      30               7   \n",
       "5                 200                       5              20   \n",
       "6                  10                      50               3   \n",
       "7                  10                       5               3   \n",
       "8                 200                      30               3   \n",
       "9                 300                     100              20   \n",
       "10                 25                      50              15   \n",
       "11                 10                      30               1   \n",
       "12                 25                     100              10   \n",
       "13                300                      50              20   \n",
       "14                200                     100              15   \n",
       "15                 10                      30               3   \n",
       "16                300                     100               1   \n",
       "17                100                     100               7   \n",
       "18                 10                       5               1   \n",
       "19                200                      30              20   \n",
       "20                 25                      50               1   \n",
       "21                200                       5              15   \n",
       "22                 25                       5              10   \n",
       "23                100                      30               5   \n",
       "24                 25                      30               1   \n",
       "25                200                       5               3   \n",
       "26                100                      30               3   \n",
       "27                300                       5               1   \n",
       "28                200                     100              20   \n",
       "29                100                     100              20   \n",
       "\n",
       "                                               params  split0_test_score  \\\n",
       "0   {'n_estimators': 100, 'min_samples_split': 100...           0.405726   \n",
       "1   {'n_estimators': 25, 'min_samples_split': 30, ...           0.832607   \n",
       "2   {'n_estimators': 200, 'min_samples_split': 30,...           0.813517   \n",
       "3   {'n_estimators': 100, 'min_samples_split': 100...           0.741492   \n",
       "4   {'n_estimators': 25, 'min_samples_split': 30, ...           0.829622   \n",
       "5   {'n_estimators': 200, 'min_samples_split': 5, ...           0.885503   \n",
       "6   {'n_estimators': 10, 'min_samples_split': 50, ...           0.678896   \n",
       "7   {'n_estimators': 10, 'min_samples_split': 5, '...           0.678622   \n",
       "8   {'n_estimators': 200, 'min_samples_split': 30,...           0.689428   \n",
       "9   {'n_estimators': 300, 'min_samples_split': 100...           0.739730   \n",
       "10  {'n_estimators': 25, 'min_samples_split': 50, ...           0.796950   \n",
       "11  {'n_estimators': 10, 'min_samples_split': 30, ...           0.400089   \n",
       "12  {'n_estimators': 25, 'min_samples_split': 100,...           0.729423   \n",
       "13  {'n_estimators': 300, 'min_samples_split': 50,...           0.811877   \n",
       "14  {'n_estimators': 200, 'min_samples_split': 100...           0.740762   \n",
       "15  {'n_estimators': 10, 'min_samples_split': 30, ...           0.678622   \n",
       "16  {'n_estimators': 300, 'min_samples_split': 100...           0.408419   \n",
       "17  {'n_estimators': 100, 'min_samples_split': 100...           0.741492   \n",
       "18  {'n_estimators': 10, 'min_samples_split': 5, '...           0.400089   \n",
       "19  {'n_estimators': 200, 'min_samples_split': 30,...           0.841283   \n",
       "20  {'n_estimators': 25, 'min_samples_split': 50, ...           0.407031   \n",
       "21  {'n_estimators': 200, 'min_samples_split': 5, ...           0.885247   \n",
       "22  {'n_estimators': 25, 'min_samples_split': 5, '...           0.875113   \n",
       "23  {'n_estimators': 100, 'min_samples_split': 30,...           0.811775   \n",
       "24  {'n_estimators': 25, 'min_samples_split': 30, ...           0.407031   \n",
       "25  {'n_estimators': 200, 'min_samples_split': 5, ...           0.689424   \n",
       "26  {'n_estimators': 100, 'min_samples_split': 30,...           0.692240   \n",
       "27  {'n_estimators': 300, 'min_samples_split': 5, ...           0.408419   \n",
       "28  {'n_estimators': 200, 'min_samples_split': 100...           0.740762   \n",
       "29  {'n_estimators': 100, 'min_samples_split': 100...           0.741492   \n",
       "\n",
       "    split1_test_score  split2_test_score  split3_test_score  \\\n",
       "0            0.349298           0.378335           0.313558   \n",
       "1            0.870428           0.857754           0.879057   \n",
       "2            0.824246           0.841956           0.850799   \n",
       "3            0.740331           0.744035           0.750569   \n",
       "4            0.857974           0.856027           0.874726   \n",
       "5            0.930883           0.899812           0.933206   \n",
       "6            0.644482           0.711674           0.716612   \n",
       "7            0.649680           0.722587           0.736399   \n",
       "8            0.673591           0.730306           0.735611   \n",
       "9            0.744522           0.746955           0.752165   \n",
       "10           0.830335           0.816036           0.831635   \n",
       "11           0.361406           0.387505           0.355499   \n",
       "12           0.724164           0.726464           0.752883   \n",
       "13           0.841099           0.825505           0.830859   \n",
       "14           0.742246           0.746862           0.753405   \n",
       "15           0.649680           0.722587           0.736399   \n",
       "16           0.354640           0.375811           0.329206   \n",
       "17           0.740331           0.744035           0.750569   \n",
       "18           0.361406           0.387505           0.355499   \n",
       "19           0.881407           0.858595           0.879393   \n",
       "20           0.341103           0.388597           0.324772   \n",
       "21           0.930133           0.899765           0.932744   \n",
       "22           0.917786           0.899349           0.926438   \n",
       "23           0.821535           0.842558           0.851129   \n",
       "24           0.341103           0.388597           0.324772   \n",
       "25           0.673599           0.730645           0.735804   \n",
       "26           0.674851           0.727450           0.735573   \n",
       "27           0.354640           0.375811           0.329206   \n",
       "28           0.742246           0.746862           0.753405   \n",
       "29           0.740331           0.744035           0.750569   \n",
       "\n",
       "    split4_test_score  mean_test_score  std_test_score  rank_test_score  \n",
       "0            0.344414         0.358266        0.031389               30  \n",
       "1            0.837294         0.855428        0.018102                5  \n",
       "2            0.801239         0.826351        0.018116                7  \n",
       "3            0.694455         0.734176        0.020175               15  \n",
       "4            0.833773         0.850425        0.016667                6  \n",
       "5            0.906235         0.911128        0.018365                1  \n",
       "6            0.592235         0.668780        0.046216               23  \n",
       "7            0.604053         0.678268        0.048309               21  \n",
       "8            0.625209         0.690829        0.040420               19  \n",
       "9            0.701181         0.736911        0.018309               11  \n",
       "10           0.793595         0.813710        0.016054               10  \n",
       "11           0.320496         0.364999        0.027646               24  \n",
       "12           0.683806         0.723348        0.022285               17  \n",
       "13           0.795914         0.821051        0.015710                9  \n",
       "14           0.699050         0.736465        0.019219               12  \n",
       "15           0.603460         0.678150        0.048491               22  \n",
       "16           0.338933         0.361402        0.028303               26  \n",
       "17           0.694455         0.734176        0.020175               15  \n",
       "18           0.320496         0.364999        0.027646               24  \n",
       "19           0.842724         0.860680        0.017221                4  \n",
       "20           0.334754         0.359252        0.032442               29  \n",
       "21           0.906372         0.910852        0.018164                2  \n",
       "22           0.900301         0.903797        0.017681                3  \n",
       "23           0.798418         0.825083        0.019414                8  \n",
       "24           0.334754         0.359252        0.032442               28  \n",
       "25           0.625754         0.691045        0.040352               18  \n",
       "26           0.620285         0.690080        0.041410               20  \n",
       "27           0.338933         0.361402        0.028303               26  \n",
       "28           0.699050         0.736465        0.019219               12  \n",
       "29           0.694455         0.734176        0.020175               14  "
      ]
     },
     "execution_count": 25,
     "metadata": {},
     "output_type": "execute_result"
    }
   ],
   "source": [
    "grid_results"
   ]
  },
  {
   "cell_type": "code",
   "execution_count": 26,
   "metadata": {
    "ExecuteTime": {
     "end_time": "2020-11-02T05:50:50.331985Z",
     "start_time": "2020-11-02T05:50:50.140317Z"
    }
   },
   "outputs": [
    {
     "data": {
      "text/plain": [
       "[<matplotlib.lines.Line2D at 0x7fcb7d1948b0>]"
      ]
     },
     "execution_count": 26,
     "metadata": {},
     "output_type": "execute_result"
    },
    {
     "data": {
      "image/png": "[encoded data removed]",
      "text/plain": [
       "<Figure size 432x288 with 1 Axes>"
      ]
     },
     "metadata": {
      "needs_background": "light"
     },
     "output_type": "display_data"
    }
   ],
   "source": [
    "plt.plot(grid_results['param_min_samples_split'],\n",
    "         grid_results['mean_test_score'],\n",
    "        'bo')"
   ]
  },
  {
   "cell_type": "code",
   "execution_count": 27,
   "metadata": {
    "ExecuteTime": {
     "end_time": "2020-11-02T05:50:50.531140Z",
     "start_time": "2020-11-02T05:50:50.333403Z"
    }
   },
   "outputs": [
    {
     "data": {
      "text/plain": [
       "[<matplotlib.lines.Line2D at 0x7fcb7d925940>]"
      ]
     },
     "execution_count": 27,
     "metadata": {},
     "output_type": "execute_result"
    },
    {
     "data": {
      "image/png": "[encoded data removed]",
      "text/plain": [
       "<Figure size 432x288 with 1 Axes>"
      ]
     },
     "metadata": {
      "needs_background": "light"
     },
     "output_type": "display_data"
    }
   ],
   "source": [
    "plt.plot(grid_results['param_n_estimators'],\n",
    "         grid_results['mean_test_score'],\n",
    "        'bo')"
   ]
  },
  {
   "cell_type": "code",
   "execution_count": 28,
   "metadata": {
    "ExecuteTime": {
     "end_time": "2020-11-02T05:50:50.664621Z",
     "start_time": "2020-11-02T05:50:50.532546Z"
    }
   },
   "outputs": [
    {
     "data": {
      "text/plain": [
       "[<matplotlib.lines.Line2D at 0x7fcb7d9b7df0>]"
      ]
     },
     "execution_count": 28,
     "metadata": {},
     "output_type": "execute_result"
    },
    {
     "data": {
      "image/png": "[encoded data removed]",
      "text/plain": [
       "<Figure size 432x288 with 1 Axes>"
      ]
     },
     "metadata": {
      "needs_background": "light"
     },
     "output_type": "display_data"
    }
   ],
   "source": [
    "plt.plot(grid_results['param_max_depth'],\n",
    "         grid_results['mean_test_score'],\n",
    "        'bo')"
   ]
  },
  {
   "cell_type": "code",
   "execution_count": 29,
   "metadata": {
    "ExecuteTime": {
     "end_time": "2020-11-02T05:52:41.901219Z",
     "start_time": "2020-11-02T05:52:30.712265Z"
    }
   },
   "outputs": [
    {
     "data": {
      "text/plain": [
       "GridSearchCV(cv=KFold(n_splits=5, random_state=8, shuffle=False),\n",
       "             estimator=RandomForestRegressor(n_jobs=-1, random_state=8),\n",
       "             n_jobs=-1,\n",
       "             param_grid={'max_depth': [13, 15, 17],\n",
       "                         'min_samples_split': [3, 5, 8],\n",
       "                         'n_estimators': [150, 200, 250]})"
      ]
     },
     "execution_count": 29,
     "metadata": {},
     "output_type": "execute_result"
    }
   ],
   "source": [
    "\n",
    "\n",
    "rf = RandomForestRegressor(random_state=SEED,\n",
    "                           n_jobs=-1)\n",
    "\n",
    "params = {\n",
    "    'max_depth': [13,15,17],\n",
    "    'min_samples_split': [3,5,8],\n",
    "    'n_estimators': [150,200,250]\n",
    "}    \n",
    "\n",
    "grid_search = GridSearchCV(rf,\n",
    "                          params,\n",
    "                          cv = k,\n",
    "                          n_jobs=-1,\n",
    "                          )\n",
    "\n",
    "grid_search.fit(X,Y)\n"
   ]
  },
  {
   "cell_type": "code",
   "execution_count": null,
   "metadata": {},
   "outputs": [],
   "source": [
    "500*10=5000\n",
    "\n",
    "\n",
    "30*5=150"
   ]
  },
  {
   "cell_type": "code",
   "execution_count": null,
   "metadata": {},
   "outputs": [],
   "source": [
    "from sklearn.model_selection import RandomizedSearchCV\n",
    "\n",
    "rs = RandomizedSearchCV(estimator=GradientBoostingRegressor(random_state=42), param_distributions=param_grid, \n",
    "                 return_train_score= True, n_jobs=-1, verbose=2, cv = 10, n_iter=500)\n",
    "rs.fit(X_train, y_train)"
   ]
  },
  {
   "cell_type": "code",
   "execution_count": null,
   "metadata": {},
   "outputs": [],
   "source": [
    "R2_Square:\n",
    "    \n",
    "91.28567533489316\n",
    "\n",
    "100% total_"
   ]
  },
  {
   "cell_type": "code",
   "execution_count": 30,
   "metadata": {
    "ExecuteTime": {
     "end_time": "2020-11-02T05:52:41.910260Z",
     "start_time": "2020-11-02T05:52:41.904592Z"
    }
   },
   "outputs": [
    {
     "data": {
      "text/plain": [
       "0.9128567533489316"
      ]
     },
     "execution_count": 30,
     "metadata": {},
     "output_type": "execute_result"
    }
   ],
   "source": [
    "grid_search.abest_score_"
   ]
  },
  {
   "cell_type": "code",
   "execution_count": 31,
   "metadata": {},
   "outputs": [
    {
     "data": {
      "text/plain": [
       "{'max_depth': 15, 'min_samples_split': 3, 'n_estimators': 200}"
      ]
     },
     "execution_count": 31,
     "metadata": {},
     "output_type": "execute_result"
    }
   ],
   "source": [
    "grid_search.best_params_"
   ]
  },
  {
   "cell_type": "code",
   "execution_count": 32,
   "metadata": {
    "ExecuteTime": {
     "end_time": "2020-11-02T05:52:41.915952Z",
     "start_time": "2020-11-02T05:52:41.913293Z"
    }
   },
   "outputs": [],
   "source": [
    "final_model = grid_search.best_estimator_"
   ]
  },
  {
   "cell_type": "code",
   "execution_count": 33,
   "metadata": {
    "ExecuteTime": {
     "end_time": "2020-11-02T05:52:41.924211Z",
     "start_time": "2020-11-02T05:52:41.918244Z"
    }
   },
   "outputs": [],
   "source": [
    "import pickle"
   ]
  },
  {
   "cell_type": "code",
   "execution_count": 37,
   "metadata": {},
   "outputs": [],
   "source": [
    "pickle.dump(final_model, open(\"concrete_model_v01.pk\",\"wb\"))"
   ]
  },
  {
   "cell_type": "code",
   "execution_count": 38,
   "metadata": {},
   "outputs": [],
   "source": [
    "loaded_model = pickle.load(open(\"concrete_model_v01.pk\",\"rb\"))"
   ]
  },
  {
   "cell_type": "code",
   "execution_count": 40,
   "metadata": {},
   "outputs": [
    {
     "data": {
      "text/plain": [
       "array([29.31457951, 24.88124774, 28.81087401, ..., 44.19458549,\n",
       "       54.57103333, 52.10149667])"
      ]
     },
     "execution_count": 40,
     "metadata": {},
     "output_type": "execute_result"
    }
   ],
   "source": [
    "loaded_model.predict(X)"
   ]
  }
 ],
 "metadata": {
  "kernelspec": {
   "display_name": "Python 3",
   "language": "python",
   "name": "python3"
  },
  "language_info": {
   "codemirror_mode": {
    "name": "ipython",
    "version": 3
   },
   "file_extension": ".py",
   "mimetype": "text/x-python",
   "name": "python",
   "nbconvert_exporter": "python",
   "pygments_lexer": "ipython3",
   "version": "3.8.8"
  }
 },
 "nbformat": 4,
 "nbformat_minor": 2
}
