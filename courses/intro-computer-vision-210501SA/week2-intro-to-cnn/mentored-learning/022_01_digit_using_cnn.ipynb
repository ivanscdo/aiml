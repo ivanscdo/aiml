{
 "cells": [
  {
   "cell_type": "code",
   "execution_count": 1,
   "metadata": {
    "ExecuteTime": {
     "end_time": "2021-05-08T17:50:11.428971Z",
     "start_time": "2021-05-08T17:50:09.236347Z"
    },
    "colab": {
     "base_uri": "https://localhost:8080/",
     "height": 71
    },
    "colab_type": "code",
    "id": "ovA48OkpDrLc",
    "outputId": "4a838340-6dd3-4631-9edc-d42d996a3f0d"
   },
   "outputs": [],
   "source": [
    "import cv2\n",
    "import numpy as np\n",
    "import pandas as pd\n",
    "\n",
    "import seaborn as sns\n",
    "import matplotlib.pyplot as plt\n",
    "%matplotlib inline\n",
    "\n",
    "from sklearn import svm\n",
    "from sklearn.model_selection import train_test_split"
   ]
  },
  {
   "cell_type": "code",
   "execution_count": 2,
   "metadata": {
    "ExecuteTime": {
     "end_time": "2021-05-08T17:50:11.432605Z",
     "start_time": "2021-05-08T17:50:11.430597Z"
    }
   },
   "outputs": [],
   "source": [
    "SEED=123\n",
    "FILE_NAME = \"dataset_week_1.csv\""
   ]
  },
  {
   "cell_type": "code",
   "execution_count": 3,
   "metadata": {
    "ExecuteTime": {
     "end_time": "2021-05-08T17:50:12.040389Z",
     "start_time": "2021-05-08T17:50:11.435918Z"
    },
    "colab": {},
    "colab_type": "code",
    "id": "watsLCCsDrLi"
   },
   "outputs": [],
   "source": [
    "data = pd.read_csv(FILE_NAME)"
   ]
  },
  {
   "cell_type": "code",
   "execution_count": 4,
   "metadata": {
    "ExecuteTime": {
     "end_time": "2021-05-08T17:50:12.047431Z",
     "start_time": "2021-05-08T17:50:12.042154Z"
    }
   },
   "outputs": [
    {
     "data": {
      "text/plain": [
       "(10008, 785)"
      ]
     },
     "execution_count": 4,
     "metadata": {},
     "output_type": "execute_result"
    }
   ],
   "source": [
    "data.shape"
   ]
  },
  {
   "cell_type": "code",
   "execution_count": 5,
   "metadata": {
    "ExecuteTime": {
     "end_time": "2021-05-08T17:50:12.053586Z",
     "start_time": "2021-05-08T17:50:12.049403Z"
    },
    "colab": {},
    "colab_type": "code",
    "id": "TwpHt4vIDrLl"
   },
   "outputs": [],
   "source": [
    "# The labels for images.\n",
    "y = data[\"label\"]"
   ]
  },
  {
   "cell_type": "code",
   "execution_count": 6,
   "metadata": {
    "ExecuteTime": {
     "end_time": "2021-05-08T17:50:12.102198Z",
     "start_time": "2021-05-08T17:50:12.055820Z"
    },
    "colab": {},
    "colab_type": "code",
    "id": "3qHkPllCDrLn"
   },
   "outputs": [],
   "source": [
    "# Drop 'label' column.\n",
    "X = data.drop(columns= [\"label\"])"
   ]
  },
  {
   "cell_type": "code",
   "execution_count": 7,
   "metadata": {
    "ExecuteTime": {
     "end_time": "2021-05-08T17:50:12.594189Z",
     "start_time": "2021-05-08T17:50:12.103916Z"
    },
    "colab": {},
    "colab_type": "code",
    "id": "dCiHsJ5eDrLy"
   },
   "outputs": [],
   "source": [
    "# Normalize the data\n",
    "X = X.astype('float32') / 255.0"
   ]
  },
  {
   "cell_type": "code",
   "execution_count": 8,
   "metadata": {
    "ExecuteTime": {
     "end_time": "2021-05-08T17:50:12.599611Z",
     "start_time": "2021-05-08T17:50:12.597487Z"
    },
    "colab": {},
    "colab_type": "code",
    "id": "fzXfwxBbLe-I"
   },
   "outputs": [],
   "source": [
    "X = X.values # Convert the features (pixel values) to numpy array to feed into the supervised learning model.\n",
    "y = y.values # Convert the labels to numpy array to feed into the supervised learning model."
   ]
  },
  {
   "cell_type": "code",
   "execution_count": 9,
   "metadata": {
    "ExecuteTime": {
     "end_time": "2021-05-08T17:50:12.719573Z",
     "start_time": "2021-05-08T17:50:12.602293Z"
    },
    "colab": {},
    "colab_type": "code",
    "id": "croSzfCaDrL1"
   },
   "outputs": [],
   "source": [
    "# Split data into test and train to build the model.\n",
    "\n",
    "X_train, X_test, y_train, y_test = train_test_split(X, y, train_size=0.75, random_state=SEED)\n"
   ]
  },
  {
   "cell_type": "code",
   "execution_count": 10,
   "metadata": {
    "ExecuteTime": {
     "end_time": "2021-05-08T17:50:12.887336Z",
     "start_time": "2021-05-08T17:50:12.723776Z"
    },
    "colab": {
     "base_uri": "https://localhost:8080/",
     "height": 298
    },
    "colab_type": "code",
    "id": "ogQfrOQJDrL4",
    "outputId": "f24f2432-da8e-4e36-b576-e90e9d9c0d84"
   },
   "outputs": [
    {
     "data": {
      "text/plain": [
       "Text(0.5, 1.0, '0')"
      ]
     },
     "execution_count": 10,
     "metadata": {},
     "output_type": "execute_result"
    },
    {
     "data": {
      "image/png": "[encoded data removed]",
      "text/plain": [
       "<Figure size 432x288 with 1 Axes>"
      ]
     },
     "metadata": {
      "needs_background": "light"
     },
     "output_type": "display_data"
    }
   ],
   "source": [
    "i=1\n",
    "img = X[i]\n",
    "img = img.reshape((28,28))\n",
    "plt.imshow(img, cmap='gray')\n",
    "plt.title(y[i])"
   ]
  },
  {
   "cell_type": "code",
   "execution_count": 11,
   "metadata": {
    "ExecuteTime": {
     "end_time": "2021-05-08T17:50:14.332332Z",
     "start_time": "2021-05-08T17:50:12.889109Z"
    },
    "colab": {
     "base_uri": "https://localhost:8080/",
     "height": 153
    },
    "colab_type": "code",
    "id": "sTlKVDJXSPS5",
    "outputId": "fc51f0ee-61ce-4790-fd3a-4f0d9fad426e"
   },
   "outputs": [
    {
     "data": {
      "text/plain": [
       "RandomForestClassifier(max_depth=5, random_state=123)"
      ]
     },
     "execution_count": 11,
     "metadata": {},
     "output_type": "execute_result"
    }
   ],
   "source": [
    "from sklearn.ensemble import RandomForestClassifier\n",
    "# random forest model creation\n",
    "clf = RandomForestClassifier(random_state=SEED,\n",
    "                            max_depth=5)\n",
    "clf.fit(X_train, y_train)"
   ]
  },
  {
   "cell_type": "code",
   "execution_count": 12,
   "metadata": {
    "ExecuteTime": {
     "end_time": "2021-05-08T17:50:14.500675Z",
     "start_time": "2021-05-08T17:50:14.333768Z"
    }
   },
   "outputs": [
    {
     "data": {
      "text/plain": [
       "(0.8771649347188916, 0.8569144684252598)"
      ]
     },
     "execution_count": 12,
     "metadata": {},
     "output_type": "execute_result"
    }
   ],
   "source": [
    "clf.score(X_train, y_train), clf.score(X_test, y_test)"
   ]
  },
  {
   "cell_type": "code",
   "execution_count": 13,
   "metadata": {
    "ExecuteTime": {
     "end_time": "2021-05-08T17:50:14.617091Z",
     "start_time": "2021-05-08T17:50:14.502448Z"
    }
   },
   "outputs": [
    {
     "data": {
      "text/plain": [
       "Text(0.5, 1.0, '1')"
      ]
     },
     "execution_count": 13,
     "metadata": {},
     "output_type": "execute_result"
    },
    {
     "data": {
      "image/png": "[encoded data removed]",
      "text/plain": [
       "<Figure size 432x288 with 1 Axes>"
      ]
     },
     "metadata": {
      "needs_background": "light"
     },
     "output_type": "display_data"
    }
   ],
   "source": [
    "i=2\n",
    "img = X[i]\n",
    "img = img.reshape((28,28))\n",
    "plt.imshow(img, cmap='gray')\n",
    "plt.title(y[i])"
   ]
  },
  {
   "cell_type": "code",
   "execution_count": 14,
   "metadata": {
    "ExecuteTime": {
     "end_time": "2021-05-08T17:50:14.735919Z",
     "start_time": "2021-05-08T17:50:14.619033Z"
    }
   },
   "outputs": [
    {
     "data": {
      "text/plain": [
       "<matplotlib.image.AxesImage at 0x7fa6de050d60>"
      ]
     },
     "execution_count": 14,
     "metadata": {},
     "output_type": "execute_result"
    },
    {
     "data": {
      "image/png": "[encoded data removed]",
      "text/plain": [
       "<Figure size 432x288 with 1 Axes>"
      ]
     },
     "metadata": {
      "needs_background": "light"
     },
     "output_type": "display_data"
    }
   ],
   "source": [
    "img1 = np.zeros((28,28))\n",
    "img1[:,4:] = img[:,0:24]\n",
    "plt.imshow(img1, cmap='gray')"
   ]
  },
  {
   "cell_type": "code",
   "execution_count": 15,
   "metadata": {
    "ExecuteTime": {
     "end_time": "2021-05-08T17:50:14.754181Z",
     "start_time": "2021-05-08T17:50:14.738039Z"
    }
   },
   "outputs": [
    {
     "data": {
      "text/plain": [
       "array([[0.  , 0.76, 0.04, 0.04, 0.01, 0.03, 0.02, 0.03, 0.04, 0.02]])"
      ]
     },
     "execution_count": 15,
     "metadata": {},
     "output_type": "execute_result"
    }
   ],
   "source": [
    "clf.predict_proba(X[i].reshape(1, -1)).round(2)"
   ]
  },
  {
   "cell_type": "code",
   "execution_count": 16,
   "metadata": {
    "ExecuteTime": {
     "end_time": "2021-05-08T17:50:14.773170Z",
     "start_time": "2021-05-08T17:50:14.756457Z"
    }
   },
   "outputs": [
    {
     "data": {
      "text/plain": [
       "array([[0.06, 0.05, 0.1 , 0.1 , 0.1 , 0.06, 0.04, 0.39, 0.03, 0.07]])"
      ]
     },
     "execution_count": 16,
     "metadata": {},
     "output_type": "execute_result"
    }
   ],
   "source": [
    "clf.predict_proba(img1.flatten().reshape(1,-1)).round(2)"
   ]
  },
  {
   "cell_type": "code",
   "execution_count": 17,
   "metadata": {
    "ExecuteTime": {
     "end_time": "2021-05-08T17:50:14.777460Z",
     "start_time": "2021-05-08T17:50:14.775148Z"
    }
   },
   "outputs": [],
   "source": [
    "# Set the batch size, number of epochs.\n",
    "batch_size = 32\n",
    "num_classes = 10\n",
    "epochs = 40\n",
    "num_predictions = 20"
   ]
  },
  {
   "cell_type": "code",
   "execution_count": 18,
   "metadata": {
    "ExecuteTime": {
     "end_time": "2021-05-08T17:50:20.117821Z",
     "start_time": "2021-05-08T17:50:14.779246Z"
    }
   },
   "outputs": [],
   "source": [
    "\n",
    "import tensorflow as tf\n",
    "import tensorflow.keras.layers as L\n"
   ]
  },
  {
   "cell_type": "code",
   "execution_count": 19,
   "metadata": {
    "ExecuteTime": {
     "end_time": "2021-05-08T17:50:20.123431Z",
     "start_time": "2021-05-08T17:50:20.119696Z"
    }
   },
   "outputs": [],
   "source": [
    "tf.random.set_seed(\n",
    "    123\n",
    ")\n",
    "np.random.seed(123)\n",
    "tf.compat.v1.set_random_seed(123)"
   ]
  },
  {
   "cell_type": "code",
   "execution_count": 20,
   "metadata": {
    "ExecuteTime": {
     "end_time": "2021-05-08T17:50:20.132933Z",
     "start_time": "2021-05-08T17:50:20.126670Z"
    }
   },
   "outputs": [
    {
     "data": {
      "text/plain": [
       "(10008, 784)"
      ]
     },
     "execution_count": 20,
     "metadata": {},
     "output_type": "execute_result"
    }
   ],
   "source": [
    "X.shape"
   ]
  },
  {
   "cell_type": "code",
   "execution_count": 21,
   "metadata": {
    "ExecuteTime": {
     "end_time": "2021-05-08T17:50:20.137494Z",
     "start_time": "2021-05-08T17:50:20.134917Z"
    }
   },
   "outputs": [],
   "source": [
    "X = X.reshape(10008,28,28,1)"
   ]
  },
  {
   "cell_type": "code",
   "execution_count": 22,
   "metadata": {
    "ExecuteTime": {
     "end_time": "2021-05-08T17:50:26.196537Z",
     "start_time": "2021-05-08T17:50:20.139478Z"
    }
   },
   "outputs": [
    {
     "name": "stdout",
     "output_type": "stream",
     "text": [
      "Epoch 1/5\n",
      "219/219 [==============================] - 2s 7ms/step - loss: 1.5938 - accuracy: 0.5290 - val_loss: 0.4902 - val_accuracy: 0.8581\n",
      "Epoch 2/5\n",
      "219/219 [==============================] - 1s 4ms/step - loss: 0.4208 - accuracy: 0.8774 - val_loss: 0.3665 - val_accuracy: 0.8888\n",
      "Epoch 3/5\n",
      "219/219 [==============================] - 1s 4ms/step - loss: 0.3296 - accuracy: 0.9015 - val_loss: 0.3103 - val_accuracy: 0.9081\n",
      "Epoch 4/5\n",
      "219/219 [==============================] - 1s 5ms/step - loss: 0.2633 - accuracy: 0.9195 - val_loss: 0.2849 - val_accuracy: 0.9167\n",
      "Epoch 5/5\n",
      "219/219 [==============================] - 1s 6ms/step - loss: 0.2457 - accuracy: 0.9229 - val_loss: 0.2731 - val_accuracy: 0.9167\n"
     ]
    },
    {
     "data": {
      "text/plain": [
       "<tensorflow.python.keras.callbacks.History at 0x7fa6f7bdd6a0>"
      ]
     },
     "execution_count": 22,
     "metadata": {},
     "output_type": "execute_result"
    }
   ],
   "source": [
    "\n",
    "model1 = tf.keras.models.Sequential()\n",
    "model1.add(L.Conv2D(3, (3, 3), padding='same', activation=\"relu\", input_shape=(28,28,1)))\n",
    "model1.add(L.MaxPooling2D((2, 2)))\n",
    "model1.add(L.Flatten())\n",
    "model1.add(L.Dense(10, activation=\"softmax\"))\n",
    "#model.add(L.Dense(256, activation=\"relu\"))\n",
    "model1.compile(loss='sparse_categorical_crossentropy',\n",
    "      optimizer='adam',\n",
    "      metrics=['accuracy'])\n",
    "model1.fit(X, y, epochs=5, validation_split=0.3)\n"
   ]
  },
  {
   "cell_type": "code",
   "execution_count": 23,
   "metadata": {
    "ExecuteTime": {
     "end_time": "2021-05-08T17:50:36.064153Z",
     "start_time": "2021-05-08T17:50:26.208366Z"
    }
   },
   "outputs": [
    {
     "name": "stdout",
     "output_type": "stream",
     "text": [
      "Epoch 1/6\n",
      "219/219 [==============================] - 2s 8ms/step - loss: 2.0063 - accuracy: 0.3418 - val_loss: 0.5943 - val_accuracy: 0.8159\n",
      "Epoch 2/6\n",
      "219/219 [==============================] - 1s 6ms/step - loss: 0.4844 - accuracy: 0.8553 - val_loss: 0.3893 - val_accuracy: 0.8711\n",
      "Epoch 3/6\n",
      "219/219 [==============================] - 1s 6ms/step - loss: 0.3362 - accuracy: 0.8930 - val_loss: 0.3051 - val_accuracy: 0.8991\n",
      "Epoch 4/6\n",
      "219/219 [==============================] - 2s 7ms/step - loss: 0.2594 - accuracy: 0.9171 - val_loss: 0.2799 - val_accuracy: 0.9138\n",
      "Epoch 5/6\n",
      "219/219 [==============================] - 2s 7ms/step - loss: 0.2355 - accuracy: 0.9250 - val_loss: 0.2445 - val_accuracy: 0.9234\n",
      "Epoch 6/6\n",
      "219/219 [==============================] - 2s 9ms/step - loss: 0.2061 - accuracy: 0.9348 - val_loss: 0.2616 - val_accuracy: 0.9128\n"
     ]
    },
    {
     "data": {
      "text/plain": [
       "<tensorflow.python.keras.callbacks.History at 0x7fa6c9dfe250>"
      ]
     },
     "execution_count": 23,
     "metadata": {},
     "output_type": "execute_result"
    }
   ],
   "source": [
    "model3 = tf.keras.models.Sequential()\n",
    "\n",
    "model3.add(L.Conv2D(3, (3, 3), padding='same', activation=\"relu\", input_shape=(28,28,1)))\n",
    "model3.add(L.MaxPooling2D((2, 2)))\n",
    "\n",
    "model3.add(L.Conv2D(6, (3, 3), padding='same', activation=\"relu\"))\n",
    "model3.add(L.MaxPooling2D((2, 2)))\n",
    "\n",
    "model3.add(L.Conv2D(9, (3, 3), padding='same', activation=\"relu\"))\n",
    "model3.add(L.MaxPooling2D((2, 2)))\n",
    "\n",
    "model3.add(L.Flatten())\n",
    "model3.add(L.Dense(10, activation=\"softmax\"))\n",
    "#model.add(L.Dense(256, activation=\"relu\"))\n",
    "model3.compile(loss='sparse_categorical_crossentropy',\n",
    "      optimizer='adam',\n",
    "      metrics=['accuracy'])\n",
    "model3.fit(X, y, epochs=6, validation_split=0.3)"
   ]
  },
  {
   "cell_type": "code",
   "execution_count": 24,
   "metadata": {
    "ExecuteTime": {
     "end_time": "2021-05-08T17:50:41.666118Z",
     "start_time": "2021-05-08T17:50:36.066783Z"
    }
   },
   "outputs": [
    {
     "name": "stdout",
     "output_type": "stream",
     "text": [
      "Epoch 1/3\n",
      "219/219 [==============================] - 2s 9ms/step - loss: 0.1905 - accuracy: 0.9409 - val_loss: 0.2138 - val_accuracy: 0.9291\n",
      "Epoch 2/3\n",
      "219/219 [==============================] - 2s 9ms/step - loss: 0.1765 - accuracy: 0.9446 - val_loss: 0.2095 - val_accuracy: 0.9327\n",
      "Epoch 3/3\n",
      "219/219 [==============================] - 2s 8ms/step - loss: 0.1706 - accuracy: 0.9465 - val_loss: 0.1926 - val_accuracy: 0.9351\n"
     ]
    },
    {
     "data": {
      "text/plain": [
       "<tensorflow.python.keras.callbacks.History at 0x7fa6cb39a460>"
      ]
     },
     "execution_count": 24,
     "metadata": {},
     "output_type": "execute_result"
    }
   ],
   "source": [
    "model3.fit(X, y, epochs=3, validation_split=0.3)"
   ]
  },
  {
   "cell_type": "code",
   "execution_count": 30,
   "metadata": {
    "ExecuteTime": {
     "end_time": "2021-05-08T17:52:52.306147Z",
     "start_time": "2021-05-08T17:52:52.134551Z"
    }
   },
   "outputs": [
    {
     "data": {
      "text/plain": [
       "<matplotlib.image.AxesImage at 0x7fa6f7a75340>"
      ]
     },
     "execution_count": 30,
     "metadata": {},
     "output_type": "execute_result"
    },
    {
     "data": {
      "image/png": "[encoded data removed]",
      "text/plain": [
       "<Figure size 432x288 with 1 Axes>"
      ]
     },
     "metadata": {
      "needs_background": "light"
     },
     "output_type": "display_data"
    }
   ],
   "source": [
    "img = X[99] #99\n",
    "img = img.reshape((28,28))\n",
    "plt.imshow(img, cmap='gray')"
   ]
  },
  {
   "cell_type": "code",
   "execution_count": 46,
   "metadata": {
    "ExecuteTime": {
     "end_time": "2021-05-08T17:53:59.311108Z",
     "start_time": "2021-05-08T17:53:59.140427Z"
    }
   },
   "outputs": [
    {
     "data": {
      "text/plain": [
       "<matplotlib.image.AxesImage at 0x7fa6ccc2e370>"
      ]
     },
     "execution_count": 46,
     "metadata": {},
     "output_type": "execute_result"
    },
    {
     "data": {
      "image/png": "[encoded data removed]",
      "text/plain": [
       "<Figure size 432x288 with 1 Axes>"
      ]
     },
     "metadata": {
      "needs_background": "light"
     },
     "output_type": "display_data"
    }
   ],
   "source": [
    "img1 = np.zeros((28,28))\n",
    "shift = 5\n",
    "img1[:,shift:] = img[:,0:28-shift]\n",
    "plt.imshow(img1, cmap='gray')"
   ]
  },
  {
   "cell_type": "code",
   "execution_count": 47,
   "metadata": {
    "ExecuteTime": {
     "end_time": "2021-05-08T17:54:41.620338Z",
     "start_time": "2021-05-08T17:54:40.845425Z"
    }
   },
   "outputs": [
    {
     "name": "stdout",
     "output_type": "stream",
     "text": [
      "0\t0.439509176384488\t0.98839986\t0.99992\t\n",
      "\n",
      "1\t0.3779899560549233\t0.9982679\t0.9999453\t\n",
      "\n",
      "2\t0.35395343539758556\t0.9985701\t0.99991465\t\n",
      "\n",
      "3\t0.24708996023998156\t0.9948578\t0.9993162\t\n",
      "\n",
      "4\t0.1597744536637088\t0.98052466\t0.9926595\t\n",
      "\n",
      "5\t0.07845693421610392\t0.92024404\t0.95831484\t\n",
      "\n",
      "6\t0.07000624250675076\t0.28812984\t0.49437428\t\n",
      "\n",
      "7\t0.07742677129442849\t0.08120656\t0.09003366\t\n",
      "\n",
      "8\t0.06585210090298917\t0.08547819\t0.009533995\t\n",
      "\n",
      "9\t0.09103546863677113\t0.2081422\t0.0005455983\t\n",
      "\n"
     ]
    }
   ],
   "source": [
    "num=5\n",
    "for shift in range(0,10):\n",
    "    img1 = np.zeros((28,28))\n",
    "    img1[:,shift:] = img[:,0:28-shift]\n",
    "    print(shift, end=\"\\t\")\n",
    "    \n",
    "    print(clf.predict_proba(img1.flatten().reshape(1,-1))[0][num], end=\"\\t\")\n",
    "    print(model1.predict(img1.reshape(1,28,28,1))[0][num], end=\"\\t\")\n",
    "    print(model3.predict(img1.reshape(1,28,28,1))[0][num], end=\"\\t\")\n",
    "    \n",
    "    print(\"\\n\")"
   ]
  },
  {
   "cell_type": "code",
   "execution_count": 59,
   "metadata": {
    "ExecuteTime": {
     "end_time": "2021-05-08T17:57:38.845619Z",
     "start_time": "2021-05-08T17:57:38.531604Z"
    }
   },
   "outputs": [
    {
     "data": {
      "text/plain": [
       "<matplotlib.image.AxesImage at 0x7fa6f6b04e20>"
      ]
     },
     "execution_count": 59,
     "metadata": {},
     "output_type": "execute_result"
    },
    {
     "data": {
      "image/png": "[encoded data removed]",
      "text/plain": [
       "<Figure size 432x288 with 1 Axes>"
      ]
     },
     "metadata": {
      "needs_background": "light"
     },
     "output_type": "display_data"
    }
   ],
   "source": [
    "plt.imshow(img, cmap='gray')"
   ]
  },
  {
   "cell_type": "code",
   "execution_count": 58,
   "metadata": {
    "ExecuteTime": {
     "end_time": "2021-05-08T17:57:34.755981Z",
     "start_time": "2021-05-08T17:57:34.587082Z"
    }
   },
   "outputs": [
    {
     "data": {
      "text/plain": [
       "<matplotlib.image.AxesImage at 0x7fa6cd650520>"
      ]
     },
     "execution_count": 58,
     "metadata": {},
     "output_type": "execute_result"
    },
    {
     "data": {
      "image/png": "[encoded data removed]",
      "text/plain": [
       "<Figure size 432x288 with 1 Axes>"
      ]
     },
     "metadata": {
      "needs_background": "light"
     },
     "output_type": "display_data"
    }
   ],
   "source": [
    "img = X[18]\n",
    "img1 = np.rot90(img,2)\n",
    "plt.imshow(img1, cmap='gray')"
   ]
  },
  {
   "cell_type": "code",
   "execution_count": 60,
   "metadata": {
    "ExecuteTime": {
     "end_time": "2021-05-08T17:57:45.195151Z",
     "start_time": "2021-05-08T17:57:44.971433Z"
    }
   },
   "outputs": [
    {
     "name": "stdout",
     "output_type": "stream",
     "text": [
      "0.05083991383609869\t2.3370953e-06\t2.8590465e-08\t"
     ]
    },
    {
     "data": {
      "image/png": "[encoded data removed]",
      "text/plain": [
       "<Figure size 432x288 with 1 Axes>"
      ]
     },
     "metadata": {
      "needs_background": "light"
     },
     "output_type": "display_data"
    }
   ],
   "source": [
    "num=7\n",
    "img1 = np.rot90(img,2)\n",
    "plt.imshow(img1, cmap='gray')\n",
    "print(clf.predict_proba(img1.flatten().reshape(1,-1))[0][num], end=\"\\t\")\n",
    "print(model1.predict(img1.reshape(1,28,28,1))[0][num], end=\"\\t\")\n",
    "print(model3.predict(img1.reshape(1,28,28,1))[0][num], end=\"\\t\")\n"
   ]
  }
 ],
 "metadata": {
  "kernelspec": {
   "display_name": "Python 3",
   "language": "python",
   "name": "python3"
  },
  "language_info": {
   "codemirror_mode": {
    "name": "ipython",
    "version": 3
   },
   "file_extension": ".py",
   "mimetype": "text/x-python",
   "name": "python",
   "nbconvert_exporter": "python",
   "pygments_lexer": "ipython3",
   "version": "3.8.8"
  }
 },
 "nbformat": 4,
 "nbformat_minor": 2
}
