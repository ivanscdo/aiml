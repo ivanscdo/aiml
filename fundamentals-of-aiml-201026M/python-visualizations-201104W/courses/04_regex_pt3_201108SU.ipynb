{
 "cells": [
  {
   "cell_type": "code",
   "execution_count": 16,
   "metadata": {},
   "outputs": [],
   "source": [
    "import re\n",
    "\n",
    "# triple single quote allows you to enter newlines etc\n",
    "text_to_search = '''\n",
    "abcdefghijklmnpoqrstuvwxyz\n",
    "ABCDEFGHIJKLMNPOQRSTUVWXYZ\n",
    "1234567890\n",
    "123abc\n",
    "\n",
    "Hello HelloHello\n",
    "\n",
    "MetaCharacters (Need to be escaped):\n",
    ".^ $ * + ?  ( ) [ ] / | ( )\n",
    "\n",
    "utexas.edu\n",
    "\n",
    "321-555-4321\n",
    "321.555.1234\n",
    "\n",
    "daniel-mitchell@utexas.edu\n",
    "\n",
    "Mr. Johnson\n",
    "Mr Smith\n",
    "Ms Davis\n",
    "Mrs. Robinson\n",
    "Mr. T\n",
    "'''"
   ]
  },
  {
   "cell_type": "code",
   "execution_count": 12,
   "metadata": {},
   "outputs": [
    {
     "name": "stdout",
     "output_type": "stream",
     "text": [
      "<re.Match object; span=(197, 223), match='daniel-mitchell@utexas.edu'>\n",
      "(197, 223)\n",
      "daniel-mitchell@utexas.edu\n",
      "daniel-mitchell@utexas.edu\n"
     ]
    }
   ],
   "source": [
    "pattern = re.compile(r'[a-zA-Z0-9_.+-]+@[a-zA-Z0-9-]+\\.[a-zA-Z0-9-.]{2,4}')\n",
    "matches = pattern.finditer(text_to_search)\n",
    "for mat in matches:\n",
    "    print(mat)\n",
    "    print(mat.span(0))\n",
    "    # returns span of match object\n",
    "    # 0 - group, character group, things in front of parentheses\n",
    "    # python set group of index 0 to be entire returned sequence\n",
    "    # returns span from mat above\n",
    "    print(mat.group(0))\n",
    "    # entire returned text inside of text_to_search\n",
    "    # returns contents of group at index 0\n",
    "    # returns match from mat above\n",
    "    print(text_to_search[mat.span(0)[0]:mat.span(0)[1]])\n",
    "    # use span to reference string we're searching\n",
    "    "
   ]
  },
  {
   "cell_type": "code",
   "execution_count": 14,
   "metadata": {},
   "outputs": [],
   "source": [
    "urls = r'''\n",
    "https://www.google.com\n",
    "http://yahoo.com\n",
    "https://www.whitehouse.gov\n",
    "https://craigslist.org\n",
    "'''"
   ]
  },
  {
   "cell_type": "code",
   "execution_count": 21,
   "metadata": {},
   "outputs": [
    {
     "name": "stdout",
     "output_type": "stream",
     "text": [
      "<re.Match object; span=(1, 23), match='https://www.google.com'>\n",
      "<re.Match object; span=(24, 40), match='http://yahoo.com'>\n",
      "<re.Match object; span=(41, 67), match='https://www.whitehouse.gov'>\n",
      "<re.Match object; span=(68, 90), match='https://craigslist.org'>\n"
     ]
    }
   ],
   "source": [
    "pattern = re.compile(r'https?://(www\\.)?\\w+\\.\\w+')\n",
    "# http - match exactly http\n",
    "# s? - 0 or more s\n",
    "# :// - match exatcly ://\n",
    "# (www\\.)? - 0 or more\n",
    "# \\w+ - one ore more word character\n",
    "# \\. - a dot\n",
    "# \\w+ - one ore more word character\n",
    "matches = pattern.finditer(urls)\n",
    "for mat in matches:\n",
    "    print(mat)"
   ]
  },
  {
   "cell_type": "code",
   "execution_count": 29,
   "metadata": {},
   "outputs": [
    {
     "name": "stdout",
     "output_type": "stream",
     "text": [
      "google.com\n",
      "yahoo.com\n",
      "whitehouse.gov\n",
      "craigslist.org\n"
     ]
    }
   ],
   "source": [
    "pattern = re.compile(r'https?://(www\\.)?(\\w+)(\\.\\w+)')\n",
    "# using grouping to be able to reference them by index using group() method\n",
    "matches = pattern.finditer(urls)\n",
    "for mat in matches:\n",
    "#     print(mat)\n",
    "    print(mat.group(2)+mat.group(3))\n",
    "#     print(mat.group(0))\n",
    "#     print(mat.group(1))\n",
    "#     print(mat.group(2))\n",
    "#     print(mat.group(3))"
   ]
  },
  {
   "cell_type": "code",
   "execution_count": 33,
   "metadata": {},
   "outputs": [
    {
     "name": "stdout",
     "output_type": "stream",
     "text": [
      "<re.Match object; span=(1, 23), match='https://www.google.com'>\n",
      "google.com\n",
      "<re.Match object; span=(24, 40), match='http://yahoo.com'>\n",
      "yahoo.com\n",
      "<re.Match object; span=(41, 67), match='https://www.whitehouse.gov'>\n",
      "whitehouse.gov\n",
      "<re.Match object; span=(68, 90), match='https://craigslist.org'>\n",
      "craigslist.org\n"
     ]
    }
   ],
   "source": [
    "pattern = re.compile(r'https?://(www\\.)?(\\w+)(\\.\\w+)')\n",
    "# using grouping to be able to reference them by index using group() method\n",
    "matches = pattern.finditer(urls)\n",
    "for mat in matches:\n",
    "    print(mat)\n",
    "    print(urls[mat.span(2)[0]:mat.span(2)[1]]+urls[mat.span(3)[0]:mat.span(3)[1]])"
   ]
  },
  {
   "cell_type": "code",
   "execution_count": 38,
   "metadata": {},
   "outputs": [
    {
     "name": "stdout",
     "output_type": "stream",
     "text": [
      "https://www.google.com\n",
      "http://yahoo.com\n",
      "https://www.whitehouse.gov\n",
      "https://craigslist.org\n"
     ]
    }
   ],
   "source": [
    "pattern = re.compile(r'https?://(www\\.)?(\\w+)(\\.\\w+)')\n",
    "# using grouping to be able to reference them by index using group() method\n",
    "matches = pattern.finditer(urls)\n",
    "for mat in matches:\n",
    "#     print(mat.start())\n",
    "#     print(mat.end())    \n",
    "#     print(mat.span())\n",
    "    print(mat.group())"
   ]
  },
  {
   "cell_type": "code",
   "execution_count": null,
   "metadata": {},
   "outputs": [],
   "source": []
  }
 ],
 "metadata": {
  "kernelspec": {
   "display_name": "Python 3",
   "language": "python",
   "name": "python3"
  },
  "language_info": {
   "codemirror_mode": {
    "name": "ipython",
    "version": 3
   },
   "file_extension": ".py",
   "mimetype": "text/x-python",
   "name": "python",
   "nbconvert_exporter": "python",
   "pygments_lexer": "ipython3",
   "version": "3.8.5"
  }
 },
 "nbformat": 4,
 "nbformat_minor": 4
}
