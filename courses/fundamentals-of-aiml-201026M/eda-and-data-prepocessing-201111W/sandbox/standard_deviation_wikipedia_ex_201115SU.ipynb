{
 "cells": [
  {
   "cell_type": "code",
   "execution_count": 12,
   "metadata": {},
   "outputs": [
    {
     "data": {
      "text/plain": [
       "420.96"
      ]
     },
     "execution_count": 12,
     "metadata": {},
     "output_type": "execute_result"
    }
   ],
   "source": [
    "import numpy as np\n",
    "import math\n",
    "\n",
    "list = [727.7, 1086.5, 1091.0, 1361.3, 1490.5, 1956.1 ]\n",
    "array = np.array(list)\n",
    "\n",
    "sum_of_sq_diff_array = []\n",
    "    \n",
    "for num in array:\n",
    "    mean=round(array.sum()/len(array), 1)\n",
    "    dif_from_mean=round(num-mean,1)\n",
    "    sq_dif_from_mean=round(dif_from_mean**2,2)\n",
    "    sum_of_sq_diff_array.append(sq_dif_from_mean)\n",
    "    \n",
    "sum_of_sq_diff = round(sum(sum_of_sq_diff_array), 2)\n",
    "n_minus_1=len(array)-1\n",
    "variance=sum_of_sq_diff/n_minus_1\n",
    "std_dev=round(math.sqrt(variance),2)\n",
    "std_dev"
   ]
  },
  {
   "cell_type": "code",
   "execution_count": 3,
   "metadata": {},
   "outputs": [
    {
     "data": {
      "text/plain": [
       "177209.418"
      ]
     },
     "execution_count": 3,
     "metadata": {},
     "output_type": "execute_result"
    }
   ],
   "source": [
    "variance"
   ]
  },
  {
   "cell_type": "code",
   "execution_count": 7,
   "metadata": {},
   "outputs": [
    {
     "data": {
      "text/plain": [
       "177209.41766666662"
      ]
     },
     "execution_count": 7,
     "metadata": {},
     "output_type": "execute_result"
    }
   ],
   "source": [
    "array.var(ddof=1)"
   ]
  },
  {
   "cell_type": "code",
   "execution_count": 14,
   "metadata": {},
   "outputs": [
    {
     "data": {
      "text/plain": [
       "420.96248961952256"
      ]
     },
     "execution_count": 14,
     "metadata": {},
     "output_type": "execute_result"
    }
   ],
   "source": [
    "array.std(ddof=1)"
   ]
  },
  {
   "cell_type": "code",
   "execution_count": 15,
   "metadata": {},
   "outputs": [
    {
     "data": {
      "text/plain": [
       "array([ 727.7, 1086.5, 1091. , 1361.3, 1490.5, 1956.1])"
      ]
     },
     "execution_count": 15,
     "metadata": {},
     "output_type": "execute_result"
    }
   ],
   "source": [
    "array"
   ]
  },
  {
   "cell_type": "code",
   "execution_count": null,
   "metadata": {},
   "outputs": [],
   "source": []
  }
 ],
 "metadata": {
  "kernelspec": {
   "display_name": "Python 3",
   "language": "python",
   "name": "python3"
  },
  "language_info": {
   "codemirror_mode": {
    "name": "ipython",
    "version": 3
   },
   "file_extension": ".py",
   "mimetype": "text/x-python",
   "name": "python",
   "nbconvert_exporter": "python",
   "pygments_lexer": "ipython3",
   "version": "3.8.5"
  }
 },
 "nbformat": 4,
 "nbformat_minor": 4
}
