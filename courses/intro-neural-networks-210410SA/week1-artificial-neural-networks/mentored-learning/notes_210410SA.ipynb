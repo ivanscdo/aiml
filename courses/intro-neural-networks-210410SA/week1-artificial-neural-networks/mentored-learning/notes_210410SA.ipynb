{
 "cells": [
  {
   "cell_type": "markdown",
   "id": "chronic-moses",
   "metadata": {},
   "source": [
    "# Intro\n",
    "\n",
    "Next section in ai\n",
    "Machine learning > deep learning\n",
    "ex: Alexa, \n",
    "\n",
    "Unstructured data: image, speech, etc\n",
    "\n",
    "Deep learning\n",
    "\n",
    "Allows complicated picture\n",
    "\n",
    "--\n",
    "\n",
    "Colab, gaggle, colab pro, paper space, cloud, personal device: external gpu machines\n",
    "\n",
    "Cost:\n",
    "Cloud- 0.5-2.00/hr\n",
    "\n",
    "\n",
    "GPU - graphical processing unit\n",
    "TPU - tensor processing unit\n",
    "\n",
    "GPU used for tensors, whereas before we were using CPU for numpy\n",
    "\n",
    "libraries: tensorflow and pytorch\n",
    "\n",
    "--\n",
    "\n",
    "Don't get hung up on hype\n",
    "Fundamentals remain same: Edu, build models, train models, evaluate, etc. \n"
   ]
  },
  {
   "cell_type": "markdown",
   "id": "coated-celebrity",
   "metadata": {},
   "source": [
    "# History of Deep Learning\n",
    "\n",
    "https://maelfabien.github.io/deeplearning/Perceptron/#"
   ]
  },
  {
   "cell_type": "markdown",
   "id": "wound-partition",
   "metadata": {},
   "source": [
    "# Artificial Neural Network\n",
    "\n",
    "https://playground.tensorflow.org\n",
    "\n"
   ]
  },
  {
   "cell_type": "markdown",
   "id": "legal-taxation",
   "metadata": {},
   "source": [
    "# Tensorflow\n",
    "\n",
    "What is a tensor?\n",
    "\n",
    "Generalized name for..."
   ]
  }
 ],
 "metadata": {
  "kernelspec": {
   "display_name": "Python 3",
   "language": "python",
   "name": "python3"
  },
  "language_info": {
   "codemirror_mode": {
    "name": "ipython",
    "version": 3
   },
   "file_extension": ".py",
   "mimetype": "text/x-python",
   "name": "python",
   "nbconvert_exporter": "python",
   "pygments_lexer": "ipython3",
   "version": "3.8.8"
  }
 },
 "nbformat": 4,
 "nbformat_minor": 5
}
