{
 "cells": [
  {
   "cell_type": "markdown",
   "id": "persistent-isolation",
   "metadata": {},
   "source": [
    "# Project Description: E-commerce Text Classification\n",
    "\n",
    "## Data Description:\n",
    "- This  is  the  classification  based  E-commerce  text  dataset  for  4  categories -\"Electronics\",  \"Household\", \"Books\" and \"Clothing & Accessories\", which almost cover 80% of any E-commerce website.\n",
    "- The dataset is in \".csv\" format with two columns -the first column is the class name and the second one is the data pointof that class. The data point is the product and description from the e-commerce website.\n",
    "\n",
    "## Dataset:\n",
    "The dataset has the following features:\n",
    "- Data Set Characteristics: Multivariate\n",
    "- Number of Instances: 50424\n",
    "- Number of classes: 4\n",
    "\n",
    "## Objective:\n",
    "To implement the techniques learnt as a part of the course.\n",
    "\n",
    "## Learning Outcomes:\n",
    "- Basic understanding of text pre-processing.\n",
    "- What to do after text pre-processing:\n",
    "    - Bag of words\n",
    "    - Tf-idf\n",
    "- Build the classification model.\n",
    "- Evaluate the Model.\n",
    "\n",
    "## Steps and tasks:\n",
    "1. Import the libraries, load dataset.(3Marks)\n",
    "1. Exploratory Data Analysisand Understanding of data-columns:(12Marks)\n",
    "    - Print Shape of data.\n",
    "    - Print data description and info about the data. Comment about the result.\n",
    "    - Check the data-type of Text column’s first value.\n",
    "    - Check for null values and remove the rows in which null values are present.\n",
    "    - Check for unique labels in the ‘Label’column.\n",
    "    - Save theunique labels in the list named ‘labels’.\n",
    "    - Print first 5 rows of data.\n",
    "1. Text pre-processing:Data preparation.(15Marks)\n",
    "    - Html tag removal.\n",
    "    - Remove the numbers.\n",
    "    - Tokenization.\n",
    "    - Removal of Special Characters and Punctuations.\n",
    "    - Conversion to lowercase.\n",
    "    - Lemmatize or stemming.\n",
    "    - Join the words in the list to convert back to text string in the dataframe.(So that each row contains the data in text format.)h.Print first 5 rows of data after pre-processing.\n",
    "1. Vectorization:(10Marks)\n",
    "    - Use CountVectorizer.(use parameter: max_features=1000)\n",
    "    - Use TfidfVectorizer.(use parameter: max_features=1000)\n",
    "1. Fit and evaluate modelusing both type of vectorization.Print confusion matrix.(6+6Marks)\n",
    "1. Summarize  your  understanding  of  the  application  of  Various  Pre-processing  and  Vectorization  and performance of your modelon this dataset. (8 Marks)\n",
    "\n",
    "Happy Learning!\n"
   ]
  },
  {
   "cell_type": "code",
   "execution_count": 6,
   "id": "conditional-college",
   "metadata": {},
   "outputs": [
    {
     "ename": "ModuleNotFoundError",
     "evalue": "No module named 'contractions'",
     "output_type": "error",
     "traceback": [
      "\u001b[0;31m---------------------------------------------------------------------------\u001b[0m",
      "\u001b[0;31mModuleNotFoundError\u001b[0m                       Traceback (most recent call last)",
      "\u001b[0;32m<ipython-input-6-119e98f9a30e>\u001b[0m in \u001b[0;36m<module>\u001b[0;34m\u001b[0m\n\u001b[1;32m      1\u001b[0m \u001b[0;32mimport\u001b[0m \u001b[0mre\u001b[0m\u001b[0;34m,\u001b[0m \u001b[0mstring\u001b[0m\u001b[0;34m,\u001b[0m \u001b[0municodedata\u001b[0m\u001b[0;34m\u001b[0m\u001b[0;34m\u001b[0m\u001b[0m\n\u001b[0;32m----> 2\u001b[0;31m \u001b[0;32mimport\u001b[0m \u001b[0mcontractions\u001b[0m\u001b[0;34m\u001b[0m\u001b[0;34m\u001b[0m\u001b[0m\n\u001b[0m\u001b[1;32m      3\u001b[0m \u001b[0;31m# from bs4 import BeautifulSoup\u001b[0m\u001b[0;34m\u001b[0m\u001b[0;34m\u001b[0m\u001b[0;34m\u001b[0m\u001b[0m\n\u001b[1;32m      4\u001b[0m \u001b[0;34m\u001b[0m\u001b[0m\n\u001b[1;32m      5\u001b[0m \u001b[0;32mimport\u001b[0m \u001b[0mnumpy\u001b[0m \u001b[0;32mas\u001b[0m \u001b[0mnp\u001b[0m\u001b[0;34m\u001b[0m\u001b[0;34m\u001b[0m\u001b[0m\n",
      "\u001b[0;31mModuleNotFoundError\u001b[0m: No module named 'contractions'"
     ]
    }
   ],
   "source": [
    "import re, string, unicodedata\n",
    "import contractions \n",
    "# from bs4 import BeautifulSoup\n",
    "\n",
    "import numpy as np\n",
    "import pandas as pd \n",
    "import nltk\n",
    "\n",
    "# nltk.download('stopwords')\n",
    "# nltk.download('punkt')\n",
    "# nltk.download('wordnet'\n",
    "\n",
    "# from nltk.corpus import stopwords\n",
    "# from nltk.tokenize import word_tokenize, sent_tokenize \n",
    "# from nltk.stem.wordnet import WordNetLemmatizer"
   ]
  },
  {
   "cell_type": "code",
   "execution_count": null,
   "id": "floral-international",
   "metadata": {},
   "outputs": [],
   "source": []
  }
 ],
 "metadata": {
  "kernelspec": {
   "display_name": "Python 3.8.8 64-bit ('aiml': conda)",
   "language": "python",
   "name": "python38864bitaimlcondaef10dbfc06654ed2a12b903ecacd7d9c"
  },
  "language_info": {
   "codemirror_mode": {
    "name": "ipython",
    "version": 3
   },
   "file_extension": ".py",
   "mimetype": "text/x-python",
   "name": "python",
   "nbconvert_exporter": "python",
   "pygments_lexer": "ipython3",
   "version": "3.8.8"
  }
 },
 "nbformat": 4,
 "nbformat_minor": 5
}
