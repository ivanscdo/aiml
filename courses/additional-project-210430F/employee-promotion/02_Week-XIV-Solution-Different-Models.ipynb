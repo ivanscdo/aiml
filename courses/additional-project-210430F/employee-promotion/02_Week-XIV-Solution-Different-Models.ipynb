{
 "cells": [
  {
   "cell_type": "code",
   "execution_count": 1,
   "metadata": {
    "ExecuteTime": {
     "end_time": "2020-11-01T16:20:15.549073Z",
     "start_time": "2020-11-01T16:20:15.545705Z"
    }
   },
   "outputs": [],
   "source": [
    "\n",
    "import warnings\n",
    "warnings.filterwarnings('ignore')\n"
   ]
  },
  {
   "cell_type": "code",
   "execution_count": 2,
   "metadata": {
    "ExecuteTime": {
     "end_time": "2020-11-01T16:20:17.221957Z",
     "start_time": "2020-11-01T16:20:16.490754Z"
    }
   },
   "outputs": [],
   "source": [
    "# Import important library\n",
    "\n",
    "import numpy as np\n",
    "import pandas as pd\n",
    "import matplotlib.pyplot as plt\n",
    "import seaborn as sns\n",
    "%matplotlib inline\n",
    "\n",
    "pd.set_option(\"max_columns\", None)\n",
    "pd.set_option(\"max_rows\", 200)"
   ]
  },
  {
   "cell_type": "code",
   "execution_count": 3,
   "metadata": {
    "ExecuteTime": {
     "end_time": "2020-11-01T16:20:18.681607Z",
     "start_time": "2020-11-01T16:20:17.977450Z"
    }
   },
   "outputs": [],
   "source": [
    "from sklearn.model_selection import train_test_split"
   ]
  },
  {
   "cell_type": "code",
   "execution_count": 4,
   "metadata": {
    "ExecuteTime": {
     "end_time": "2020-11-01T16:20:36.610678Z",
     "start_time": "2020-11-01T16:20:36.604232Z"
    }
   },
   "outputs": [],
   "source": [
    "from utils import *"
   ]
  },
  {
   "cell_type": "code",
   "execution_count": 15,
   "metadata": {
    "ExecuteTime": {
     "end_time": "2020-11-01T16:20:37.150963Z",
     "start_time": "2020-11-01T16:20:37.147428Z"
    }
   },
   "outputs": [],
   "source": [
    "SEED = 8"
   ]
  },
  {
   "cell_type": "code",
   "execution_count": 5,
   "metadata": {
    "ExecuteTime": {
     "end_time": "2020-11-01T16:20:38.629114Z",
     "start_time": "2020-11-01T16:20:38.625283Z"
    }
   },
   "outputs": [],
   "source": [
    "INPUT_FILE = \"concrete_wd_features.csv\"\n",
    "INPUT_DIR = \"./\""
   ]
  },
  {
   "cell_type": "code",
   "execution_count": 6,
   "metadata": {
    "ExecuteTime": {
     "end_time": "2020-11-01T16:20:40.428868Z",
     "start_time": "2020-11-01T16:20:40.414555Z"
    }
   },
   "outputs": [],
   "source": [
    "df = read_input(INPUT_DIR, INPUT_FILE)"
   ]
  },
  {
   "cell_type": "code",
   "execution_count": 7,
   "metadata": {
    "ExecuteTime": {
     "end_time": "2020-11-01T16:20:41.117490Z",
     "start_time": "2020-11-01T16:20:41.109331Z"
    }
   },
   "outputs": [
    {
     "data": {
      "text/plain": [
       "(1030, 18)"
      ]
     },
     "execution_count": 7,
     "metadata": {},
     "output_type": "execute_result"
    }
   ],
   "source": [
    "df.shape"
   ]
  },
  {
   "cell_type": "code",
   "execution_count": 8,
   "metadata": {
    "ExecuteTime": {
     "end_time": "2020-11-01T16:48:01.800672Z",
     "start_time": "2020-11-01T16:48:01.796356Z"
    }
   },
   "outputs": [],
   "source": [
    "\n",
    "features = ['cement', 'slag', 'ash', 'water', 'superplastic', 'coarseagg',\n",
    "       'fineagg', 'age']\n",
    "\n",
    "new_features = ['r_water_cement', 'r_coarseagg_fineagg', 'r_slag_cement',\n",
    "         'p_ash_water','slag_flag','ash_flag','superplastic_flag','agg_flag']\n"
   ]
  },
  {
   "cell_type": "code",
   "execution_count": 9,
   "metadata": {
    "ExecuteTime": {
     "end_time": "2020-11-01T16:48:02.634947Z",
     "start_time": "2020-11-01T16:48:02.631588Z"
    }
   },
   "outputs": [],
   "source": [
    "all_features = new_features + features"
   ]
  },
  {
   "cell_type": "code",
   "execution_count": 10,
   "metadata": {
    "ExecuteTime": {
     "end_time": "2020-11-01T16:48:04.259810Z",
     "start_time": "2020-11-01T16:48:04.256061Z"
    }
   },
   "outputs": [],
   "source": [
    "TARGET='strength'"
   ]
  },
  {
   "cell_type": "code",
   "execution_count": 13,
   "metadata": {
    "ExecuteTime": {
     "end_time": "2020-11-01T16:48:04.581101Z",
     "start_time": "2020-11-01T16:48:04.577080Z"
    }
   },
   "outputs": [],
   "source": [
    "X = df[features]\n",
    "Y = df[TARGET]"
   ]
  },
  {
   "cell_type": "code",
   "execution_count": 16,
   "metadata": {
    "ExecuteTime": {
     "end_time": "2020-11-01T16:48:06.330313Z",
     "start_time": "2020-11-01T16:48:06.324518Z"
    }
   },
   "outputs": [],
   "source": [
    "# Splitting the data into train and test\n",
    "\n",
    "X_train, X_validation, Y_train, Y_validation = train_test_split(X, Y , test_size=0.3, random_state=SEED)\n"
   ]
  },
  {
   "cell_type": "code",
   "execution_count": 17,
   "metadata": {},
   "outputs": [
    {
     "data": {
      "text/plain": [
       "309"
      ]
     },
     "execution_count": 17,
     "metadata": {},
     "output_type": "execute_result"
    }
   ],
   "source": [
    "len(Y_validation)"
   ]
  },
  {
   "cell_type": "markdown",
   "metadata": {},
   "source": [
    "## Models\n",
    "\n",
    "### 1. Different Models *(15 marks)*"
   ]
  },
  {
   "cell_type": "code",
   "execution_count": 18,
   "metadata": {
    "ExecuteTime": {
     "end_time": "2020-11-01T16:48:07.105140Z",
     "start_time": "2020-11-01T16:48:07.100144Z"
    }
   },
   "outputs": [],
   "source": [
    "from sklearn.pipeline import Pipeline\n",
    "from sklearn.model_selection import cross_val_score, KFold\n",
    "\n",
    "from sklearn.linear_model import LinearRegression\n",
    "from sklearn.preprocessing import StandardScaler\n",
    "from sklearn.ensemble import RandomForestRegressor\n",
    "from sklearn.ensemble import GradientBoostingRegressor\n",
    "from sklearn.ensemble import AdaBoostRegressor\n",
    "from sklearn.tree import DecisionTreeRegressor\n"
   ]
  },
  {
   "cell_type": "code",
   "execution_count": 19,
   "metadata": {
    "ExecuteTime": {
     "end_time": "2020-11-01T16:48:07.573685Z",
     "start_time": "2020-11-01T16:48:07.570932Z"
    }
   },
   "outputs": [],
   "source": [
    "k =  KFold(random_state=SEED, n_splits=5)\n",
    "# KFold will split the data in 5 equal parts"
   ]
  },
  {
   "cell_type": "code",
   "execution_count": 20,
   "metadata": {
    "ExecuteTime": {
     "end_time": "2020-11-01T16:48:07.977398Z",
     "start_time": "2020-11-01T16:48:07.973599Z"
    }
   },
   "outputs": [],
   "source": [
    "\n",
    "algo= []\n",
    "cv_r2_mean = []\n",
    "cv_r2_std = []\n",
    "cv_rmse_mean = []\n",
    "\n",
    "# Blanks list to store model name, cross validated r2 score (mean and standard deviation) and RMSE"
   ]
  },
  {
   "cell_type": "code",
   "execution_count": null,
   "metadata": {},
   "outputs": [],
   "source": [
    "Lasso-Ridge| L1-Regulrization | L2-Regul"
   ]
  },
  {
   "cell_type": "code",
   "execution_count": 21,
   "metadata": {
    "ExecuteTime": {
     "end_time": "2020-11-01T16:48:08.897166Z",
     "start_time": "2020-11-01T16:48:08.805832Z"
    }
   },
   "outputs": [],
   "source": [
    "# Linear Regression\n",
    "## Since the dataset is small theefore using compete dataset for cv\n",
    "\n",
    "pipeline = Pipeline([\n",
    "    ('scaler',StandardScaler()),\n",
    "    ('reg', LinearRegression())\n",
    "])\n",
    "\n",
    "pipeline.fit(X,Y)\n",
    "algo.append('Linear Regression')\n",
    "\n",
    "scores = cross_val_score(pipeline, X, Y, cv=k)\n",
    "\n",
    "cv_r2_mean.append(scores.mean())\n",
    "cv_r2_std.append(scores.std())\n",
    "\n",
    "cv_rmse_mean.append((-cross_val_score(pipeline, X, Y, cv=k,scoring='neg_mean_squared_error').mean())**0.5)\n"
   ]
  },
  {
   "cell_type": "markdown",
   "metadata": {},
   "source": [
    "When we use mean squared error as scoring in cross val score it gives output with a negative sign. So we use Negative sign to make it positive."
   ]
  },
  {
   "cell_type": "code",
   "execution_count": 22,
   "metadata": {
    "ExecuteTime": {
     "end_time": "2020-11-01T16:48:09.655881Z",
     "start_time": "2020-11-01T16:48:09.567753Z"
    }
   },
   "outputs": [],
   "source": [
    "# Decision Tree\n",
    "\n",
    "model = DecisionTreeRegressor(random_state=SEED)\n",
    "\n",
    "algo.append('Decision Tree')\n",
    "\n",
    "scores = cross_val_score(model, X, Y, cv=k)\n",
    "\n",
    "cv_r2_mean.append(scores.mean())\n",
    "cv_r2_std.append(scores.std())\n",
    "\n",
    "cv_rmse_mean.append((-cross_val_score(model, X, Y, cv=k,scoring='neg_mean_squared_error').mean())**0.5)"
   ]
  },
  {
   "cell_type": "code",
   "execution_count": 23,
   "metadata": {
    "ExecuteTime": {
     "end_time": "2020-11-01T16:48:10.352997Z",
     "start_time": "2020-11-01T16:48:09.928281Z"
    }
   },
   "outputs": [],
   "source": [
    "# Random Forest\n",
    "\n",
    "model = RandomForestRegressor(random_state=SEED)\n",
    "\n",
    "#model.fit(xtrain,ytrain)\n",
    "\n",
    "algo.append('Random Forest')\n",
    "\n",
    "scores = cross_val_score(model, X, Y, cv=k)\n",
    "\n",
    "cv_r2_mean.append(scores.mean())\n",
    "cv_r2_std.append(scores.std())\n",
    "\n",
    "cv_rmse_mean.append((-cross_val_score(model, X, Y, cv=k, scoring='neg_mean_squared_error').mean())**0.5)"
   ]
  },
  {
   "cell_type": "code",
   "execution_count": 24,
   "metadata": {
    "ExecuteTime": {
     "end_time": "2020-11-01T16:48:11.827951Z",
     "start_time": "2020-11-01T16:48:10.354563Z"
    }
   },
   "outputs": [],
   "source": [
    "# AdaBoost\n",
    "\n",
    "model = AdaBoostRegressor(random_state=SEED)\n",
    "\n",
    "algo.append('AdaBoost')\n",
    "scores = cross_val_score(model, X, Y, cv=k)\n",
    "\n",
    "cv_r2_mean.append(scores.mean())\n",
    "cv_r2_std.append(scores.std())\n",
    "\n",
    "cv_rmse_mean.append((-cross_val_score(model, X, Y, cv=k,scoring='neg_mean_squared_error').mean())**0.5)"
   ]
  },
  {
   "cell_type": "code",
   "execution_count": 25,
   "metadata": {
    "ExecuteTime": {
     "end_time": "2020-11-01T16:48:12.515924Z",
     "start_time": "2020-11-01T16:48:11.829954Z"
    }
   },
   "outputs": [],
   "source": [
    "# Gradient Boosting\n",
    "\n",
    "\n",
    "model = GradientBoostingRegressor(random_state=SEED)\n",
    "\n",
    "algo.append('Gradient Boosting')\n",
    "\n",
    "scores = cross_val_score(model, X, Y, cv=k)\n",
    "\n",
    "cv_r2_mean.append(scores.mean())\n",
    "cv_r2_std.append(scores.std())\n",
    "\n",
    "cv_rmse_mean.append((-cross_val_score(model, X, Y, cv=k,scoring='neg_mean_squared_error').mean())**0.5)"
   ]
  },
  {
   "cell_type": "code",
   "execution_count": 26,
   "metadata": {
    "ExecuteTime": {
     "end_time": "2020-11-01T16:48:12.530460Z",
     "start_time": "2020-11-01T16:48:12.517379Z"
    }
   },
   "outputs": [
    {
     "data": {
      "text/html": [
       "<div>\n",
       "<style scoped>\n",
       "    .dataframe tbody tr th:only-of-type {\n",
       "        vertical-align: middle;\n",
       "    }\n",
       "\n",
       "    .dataframe tbody tr th {\n",
       "        vertical-align: top;\n",
       "    }\n",
       "\n",
       "    .dataframe thead th {\n",
       "        text-align: right;\n",
       "    }\n",
       "</style>\n",
       "<table border=\"1\" class=\"dataframe\">\n",
       "  <thead>\n",
       "    <tr style=\"text-align: right;\">\n",
       "      <th></th>\n",
       "      <th>CV R2 score mean</th>\n",
       "      <th>CV R2 score std</th>\n",
       "      <th>CV RMSE</th>\n",
       "    </tr>\n",
       "    <tr>\n",
       "      <th>Model</th>\n",
       "      <th></th>\n",
       "      <th></th>\n",
       "      <th></th>\n",
       "    </tr>\n",
       "  </thead>\n",
       "  <tbody>\n",
       "    <tr>\n",
       "      <th>Linear Regression</th>\n",
       "      <td>0.811788</td>\n",
       "      <td>0.019724</td>\n",
       "      <td>7.173525</td>\n",
       "    </tr>\n",
       "    <tr>\n",
       "      <th>Decision Tree</th>\n",
       "      <td>0.838810</td>\n",
       "      <td>0.037632</td>\n",
       "      <td>6.634652</td>\n",
       "    </tr>\n",
       "    <tr>\n",
       "      <th>Random Forest</th>\n",
       "      <td>0.908975</td>\n",
       "      <td>0.017744</td>\n",
       "      <td>5.013101</td>\n",
       "    </tr>\n",
       "    <tr>\n",
       "      <th>AdaBoost</th>\n",
       "      <td>0.776681</td>\n",
       "      <td>0.020802</td>\n",
       "      <td>7.791804</td>\n",
       "    </tr>\n",
       "    <tr>\n",
       "      <th>Gradient Boosting</th>\n",
       "      <td>0.901666</td>\n",
       "      <td>0.014879</td>\n",
       "      <td>5.209605</td>\n",
       "    </tr>\n",
       "  </tbody>\n",
       "</table>\n",
       "</div>"
      ],
      "text/plain": [
       "                   CV R2 score mean  CV R2 score std   CV RMSE\n",
       "Model                                                         \n",
       "Linear Regression          0.811788         0.019724  7.173525\n",
       "Decision Tree              0.838810         0.037632  6.634652\n",
       "Random Forest              0.908975         0.017744  5.013101\n",
       "AdaBoost                   0.776681         0.020802  7.791804\n",
       "Gradient Boosting          0.901666         0.014879  5.209605"
      ]
     },
     "execution_count": 26,
     "metadata": {},
     "output_type": "execute_result"
    }
   ],
   "source": [
    "# DataFrame to compare results.\n",
    "\n",
    "results = pd.DataFrame()\n",
    "results['Model'] = algo\n",
    "results['CV R2 score mean'] = cv_r2_mean\n",
    "results['CV R2 score std'] = cv_r2_std\n",
    "results['CV RMSE'] = cv_rmse_mean\n",
    "results = results.set_index('Model')\n",
    "results"
   ]
  }
 ],
 "metadata": {
  "kernelspec": {
   "display_name": "Python 3",
   "language": "python",
   "name": "python3"
  },
  "language_info": {
   "codemirror_mode": {
    "name": "ipython",
    "version": 3
   },
   "file_extension": ".py",
   "mimetype": "text/x-python",
   "name": "python",
   "nbconvert_exporter": "python",
   "pygments_lexer": "ipython3",
   "version": "3.8.8"
  }
 },
 "nbformat": 4,
 "nbformat_minor": 2
}
